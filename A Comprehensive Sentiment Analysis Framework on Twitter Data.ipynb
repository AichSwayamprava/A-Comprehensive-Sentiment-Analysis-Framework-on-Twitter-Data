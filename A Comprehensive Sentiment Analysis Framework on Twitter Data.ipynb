{
 "cells": [
  {
   "cell_type": "markdown",
   "id": "9d46597c",
   "metadata": {},
   "source": [
    "# Import Libraries"
   ]
  },
  {
   "cell_type": "code",
   "execution_count": 1,
   "id": "f78565ed",
   "metadata": {},
   "outputs": [],
   "source": [
    "import re\n",
    "import warnings\n",
    "\n",
    "import matplotlib.pyplot as plt\n",
    "import numpy as np\n",
    "import pandas as pd\n",
    "import seaborn as sns\n",
    "\n",
    "from nltk.corpus import stopwords, wordnet\n",
    "from nltk.sentiment import SentimentIntensityAnalyzer\n",
    "from nltk.sentiment.vader import SentimentIntensityAnalyzer\n",
    "from nltk.stem import WordNetLemmatizer\n",
    "from nltk.stem.wordnet import WordNetLemmatizer\n",
    "from nltk.tag import pos_tag\n",
    "from nltk.tokenize import sent_tokenize, word_tokenize\n",
    "\n",
    "from sklearn.ensemble import VotingClassifier\n",
    "from sklearn.feature_extraction.text import TfidfVectorizer\n",
    "from sklearn.linear_model import LogisticRegression, SGDClassifier\n",
    "from sklearn.metrics import accuracy_score, precision_score, recall_score, f1_score\n",
    "from sklearn.metrics import (accuracy_score, classification_report, confusion_matrix, f1_score, precision_score, recall_score)\n",
    "from sklearn.model_selection import cross_val_score, train_test_split\n",
    "from sklearn.naive_bayes import BernoulliNB, MultinomialNB\n",
    "from sklearn.svm import SVC\n",
    "from sklearn.tree import DecisionTreeClassifier\n",
    "\n",
    "# Suppressing warnings\n",
    "warnings.filterwarnings('ignore')\n"
   ]
  },
  {
   "cell_type": "markdown",
   "id": "aa1d11e2",
   "metadata": {},
   "source": [
    "# Create a SentimentIntensityAnalyzer 'sia' using VADER lexicon"
   ]
  },
  {
   "cell_type": "code",
   "execution_count": 2,
   "id": "94e841dd",
   "metadata": {
    "colab": {
     "base_uri": "https://localhost:8080/"
    },
    "id": "94e841dd",
    "outputId": "bae6d3c4-5cd6-45cc-9f8e-08348142015e"
   },
   "outputs": [
    {
     "name": "stderr",
     "output_type": "stream",
     "text": [
      "[nltk_data] Downloading package vader_lexicon to\n",
      "[nltk_data]     /Users/swayamprava/nltk_data...\n",
      "[nltk_data]   Package vader_lexicon is already up-to-date!\n"
     ]
    }
   ],
   "source": [
    "import nltk\n",
    "nltk.download('vader_lexicon')\n",
    "#from nltk.sentiment import SentimentIntensityAnalyzer\n",
    "\n",
    "sia = SentimentIntensityAnalyzer()\n"
   ]
  },
  {
   "cell_type": "markdown",
   "id": "3361594e",
   "metadata": {},
   "source": [
    "# Create a random dataset of 60k with polarity 0,2,4\n",
    "\n",
    "#### 0 = negative, 2 = neutral,  4 = positive"
   ]
  },
  {
   "cell_type": "code",
   "execution_count": 3,
   "id": "8deb073d",
   "metadata": {},
   "outputs": [
    {
     "name": "stdout",
     "output_type": "stream",
     "text": [
      "   polarity          id                          date     query  \\\n",
      "0         0  2249354965  Fri Jun 19 22:10:32 PDT 2009  NO_QUERY   \n",
      "1         4  2251397506  Sat Jun 20 03:22:27 PDT 2009  NO_QUERY   \n",
      "2         4  1469220718  Tue Apr 07 05:39:28 PDT 2009  NO_QUERY   \n",
      "3         0  1685695518  Sun May 03 01:36:27 PDT 2009  NO_QUERY   \n",
      "4         0  1970686901  Sat May 30 04:50:47 PDT 2009  NO_QUERY   \n",
      "\n",
      "            user                                               text  \n",
      "0    onerainyday   still walking... wish i knew what was wrong w...  \n",
      "1      ICheetahI  We saw the cutest (other than Gremlin and Gizm...  \n",
      "2         Illy02               @illy5G i love ur backround pic...    \n",
      "3  _MatthewShaw_  all that pizza yesterday has left me feeling s...  \n",
      "4     Thunderous  @cherryroad I haven't watched any Ten episodes...  \n"
     ]
    }
   ],
   "source": [
    "#from random import shuffle\n",
    "\n",
    "def classify_sentiment(row):\n",
    "    score = sia.polarity_scores(row['text'])\n",
    "    if score['compound'] >= 0.05:\n",
    "        return 4  # Positive\n",
    "    elif score['compound'] <= -0.05:\n",
    "        return 0  # Negative\n",
    "    else:\n",
    "        return 2  # Neutral\n",
    "\n",
    "# Load the dataset\n",
    "df = pd.read_csv('training.1600000.processed.noemotion.csv', header=None, encoding='latin-1')\n",
    "df.columns = ['polarity', 'id', 'date', 'query', 'user', 'text']\n",
    "\n",
    "# Apply VADER to classify tweets\n",
    "df['polarity'] = df.apply(classify_sentiment, axis=1)\n",
    "\n",
    "# Filter and sample the tweets\n",
    "negative_tweets = df[df['polarity'] == 0]\n",
    "positive_tweets = df[df['polarity'] == 4]\n",
    "neutral_tweets = df[df['polarity'] == 2]\n",
    "\n",
    "#sample 20,000 from each category\n",
    "negative_sample = negative_tweets.sample(n=20000, random_state=42)\n",
    "positive_sample = positive_tweets.sample(n=20000, random_state=42)\n",
    "neutral_sample = neutral_tweets.sample(n=20000, random_state=42)\n",
    "\n",
    "# Combine and shuffle\n",
    "balanced_dataset = pd.concat([negative_sample, positive_sample, neutral_sample])\n",
    "balanced_dataset = balanced_dataset.sample(frac=1, random_state=42).reset_index(drop=True)\n",
    "\n",
    "\n",
    "# Save or display the data\n",
    "balanced_dataset.to_csv('balanced_dataset_three_classes.csv', index=False)\n",
    "print(balanced_dataset.head())\n"
   ]
  },
  {
   "cell_type": "code",
   "execution_count": 4,
   "id": "62cb53a9",
   "metadata": {
    "colab": {
     "base_uri": "https://localhost:8080/",
     "height": 141
    },
    "id": "62cb53a9",
    "outputId": "c14e393d-78f9-4f5b-9e87-0a385a2d219d"
   },
   "outputs": [
    {
     "data": {
      "text/html": [
       "<div>\n",
       "<style scoped>\n",
       "    .dataframe tbody tr th:only-of-type {\n",
       "        vertical-align: middle;\n",
       "    }\n",
       "\n",
       "    .dataframe tbody tr th {\n",
       "        vertical-align: top;\n",
       "    }\n",
       "\n",
       "    .dataframe thead th {\n",
       "        text-align: right;\n",
       "    }\n",
       "</style>\n",
       "<table border=\"1\" class=\"dataframe\">\n",
       "  <thead>\n",
       "    <tr style=\"text-align: right;\">\n",
       "      <th></th>\n",
       "      <th>polarity</th>\n",
       "      <th>id</th>\n",
       "      <th>date</th>\n",
       "      <th>query</th>\n",
       "      <th>user</th>\n",
       "      <th>text</th>\n",
       "    </tr>\n",
       "  </thead>\n",
       "  <tbody>\n",
       "    <tr>\n",
       "      <th>0</th>\n",
       "      <td>0</td>\n",
       "      <td>2249354965</td>\n",
       "      <td>Fri Jun 19 22:10:32 PDT 2009</td>\n",
       "      <td>NO_QUERY</td>\n",
       "      <td>onerainyday</td>\n",
       "      <td>still walking... wish i knew what was wrong w...</td>\n",
       "    </tr>\n",
       "    <tr>\n",
       "      <th>1</th>\n",
       "      <td>4</td>\n",
       "      <td>2251397506</td>\n",
       "      <td>Sat Jun 20 03:22:27 PDT 2009</td>\n",
       "      <td>NO_QUERY</td>\n",
       "      <td>ICheetahI</td>\n",
       "      <td>We saw the cutest (other than Gremlin and Gizm...</td>\n",
       "    </tr>\n",
       "    <tr>\n",
       "      <th>2</th>\n",
       "      <td>4</td>\n",
       "      <td>1469220718</td>\n",
       "      <td>Tue Apr 07 05:39:28 PDT 2009</td>\n",
       "      <td>NO_QUERY</td>\n",
       "      <td>Illy02</td>\n",
       "      <td>@illy5G i love ur backround pic...</td>\n",
       "    </tr>\n",
       "    <tr>\n",
       "      <th>3</th>\n",
       "      <td>0</td>\n",
       "      <td>1685695518</td>\n",
       "      <td>Sun May 03 01:36:27 PDT 2009</td>\n",
       "      <td>NO_QUERY</td>\n",
       "      <td>_MatthewShaw_</td>\n",
       "      <td>all that pizza yesterday has left me feeling s...</td>\n",
       "    </tr>\n",
       "    <tr>\n",
       "      <th>4</th>\n",
       "      <td>0</td>\n",
       "      <td>1970686901</td>\n",
       "      <td>Sat May 30 04:50:47 PDT 2009</td>\n",
       "      <td>NO_QUERY</td>\n",
       "      <td>Thunderous</td>\n",
       "      <td>@cherryroad I haven't watched any Ten episodes...</td>\n",
       "    </tr>\n",
       "    <tr>\n",
       "      <th>5</th>\n",
       "      <td>2</td>\n",
       "      <td>2257153821</td>\n",
       "      <td>Sat Jun 20 13:52:57 PDT 2009</td>\n",
       "      <td>NO_QUERY</td>\n",
       "      <td>jclwilson</td>\n",
       "      <td>@tina_3192 ouch my ears</td>\n",
       "    </tr>\n",
       "    <tr>\n",
       "      <th>6</th>\n",
       "      <td>0</td>\n",
       "      <td>1565156720</td>\n",
       "      <td>Mon Apr 20 06:03:02 PDT 2009</td>\n",
       "      <td>NO_QUERY</td>\n",
       "      <td>kaylanadeau</td>\n",
       "      <td>have a huge headache &amp;amp; sore throat today  ...</td>\n",
       "    </tr>\n",
       "    <tr>\n",
       "      <th>7</th>\n",
       "      <td>0</td>\n",
       "      <td>2235421822</td>\n",
       "      <td>Fri Jun 19 01:10:22 PDT 2009</td>\n",
       "      <td>NO_QUERY</td>\n",
       "      <td>kelly_erinn</td>\n",
       "      <td>being forced to watch saw. not looking forward...</td>\n",
       "    </tr>\n",
       "    <tr>\n",
       "      <th>8</th>\n",
       "      <td>0</td>\n",
       "      <td>1974353007</td>\n",
       "      <td>Sat May 30 12:57:39 PDT 2009</td>\n",
       "      <td>NO_QUERY</td>\n",
       "      <td>bpirtle</td>\n",
       "      <td>gosh....i hate shopping! stupid people being m...</td>\n",
       "    </tr>\n",
       "    <tr>\n",
       "      <th>9</th>\n",
       "      <td>4</td>\n",
       "      <td>1792537039</td>\n",
       "      <td>Wed May 13 23:26:13 PDT 2009</td>\n",
       "      <td>NO_QUERY</td>\n",
       "      <td>cmperezsocal</td>\n",
       "      <td>I love humpday</td>\n",
       "    </tr>\n",
       "  </tbody>\n",
       "</table>\n",
       "</div>"
      ],
      "text/plain": [
       "   polarity          id                          date     query  \\\n",
       "0         0  2249354965  Fri Jun 19 22:10:32 PDT 2009  NO_QUERY   \n",
       "1         4  2251397506  Sat Jun 20 03:22:27 PDT 2009  NO_QUERY   \n",
       "2         4  1469220718  Tue Apr 07 05:39:28 PDT 2009  NO_QUERY   \n",
       "3         0  1685695518  Sun May 03 01:36:27 PDT 2009  NO_QUERY   \n",
       "4         0  1970686901  Sat May 30 04:50:47 PDT 2009  NO_QUERY   \n",
       "5         2  2257153821  Sat Jun 20 13:52:57 PDT 2009  NO_QUERY   \n",
       "6         0  1565156720  Mon Apr 20 06:03:02 PDT 2009  NO_QUERY   \n",
       "7         0  2235421822  Fri Jun 19 01:10:22 PDT 2009  NO_QUERY   \n",
       "8         0  1974353007  Sat May 30 12:57:39 PDT 2009  NO_QUERY   \n",
       "9         4  1792537039  Wed May 13 23:26:13 PDT 2009  NO_QUERY   \n",
       "\n",
       "            user                                               text  \n",
       "0    onerainyday   still walking... wish i knew what was wrong w...  \n",
       "1      ICheetahI  We saw the cutest (other than Gremlin and Gizm...  \n",
       "2         Illy02               @illy5G i love ur backround pic...    \n",
       "3  _MatthewShaw_  all that pizza yesterday has left me feeling s...  \n",
       "4     Thunderous  @cherryroad I haven't watched any Ten episodes...  \n",
       "5      jclwilson                           @tina_3192 ouch my ears   \n",
       "6    kaylanadeau  have a huge headache &amp; sore throat today  ...  \n",
       "7    kelly_erinn  being forced to watch saw. not looking forward...  \n",
       "8        bpirtle  gosh....i hate shopping! stupid people being m...  \n",
       "9   cmperezsocal                                    I love humpday   "
      ]
     },
     "execution_count": 4,
     "metadata": {},
     "output_type": "execute_result"
    }
   ],
   "source": [
    "balanced_dataset.head(10)"
   ]
  },
  {
   "cell_type": "code",
   "execution_count": 5,
   "id": "ee10f8e2",
   "metadata": {
    "id": "ee10f8e2"
   },
   "outputs": [
    {
     "data": {
      "text/html": [
       "<div>\n",
       "<style scoped>\n",
       "    .dataframe tbody tr th:only-of-type {\n",
       "        vertical-align: middle;\n",
       "    }\n",
       "\n",
       "    .dataframe tbody tr th {\n",
       "        vertical-align: top;\n",
       "    }\n",
       "\n",
       "    .dataframe thead th {\n",
       "        text-align: right;\n",
       "    }\n",
       "</style>\n",
       "<table border=\"1\" class=\"dataframe\">\n",
       "  <thead>\n",
       "    <tr style=\"text-align: right;\">\n",
       "      <th></th>\n",
       "      <th>polarity</th>\n",
       "      <th>id</th>\n",
       "      <th>date</th>\n",
       "      <th>query</th>\n",
       "      <th>user</th>\n",
       "      <th>text</th>\n",
       "    </tr>\n",
       "  </thead>\n",
       "  <tbody>\n",
       "    <tr>\n",
       "      <th>0</th>\n",
       "      <td>0</td>\n",
       "      <td>2249354965</td>\n",
       "      <td>Fri Jun 19 22:10:32 PDT 2009</td>\n",
       "      <td>NO_QUERY</td>\n",
       "      <td>onerainyday</td>\n",
       "      <td>still walking... wish i knew what was wrong w...</td>\n",
       "    </tr>\n",
       "    <tr>\n",
       "      <th>1</th>\n",
       "      <td>4</td>\n",
       "      <td>2251397506</td>\n",
       "      <td>Sat Jun 20 03:22:27 PDT 2009</td>\n",
       "      <td>NO_QUERY</td>\n",
       "      <td>ICheetahI</td>\n",
       "      <td>We saw the cutest (other than Gremlin and Gizm...</td>\n",
       "    </tr>\n",
       "    <tr>\n",
       "      <th>2</th>\n",
       "      <td>4</td>\n",
       "      <td>1469220718</td>\n",
       "      <td>Tue Apr 07 05:39:28 PDT 2009</td>\n",
       "      <td>NO_QUERY</td>\n",
       "      <td>Illy02</td>\n",
       "      <td>@illy5G i love ur backround pic...</td>\n",
       "    </tr>\n",
       "    <tr>\n",
       "      <th>3</th>\n",
       "      <td>0</td>\n",
       "      <td>1685695518</td>\n",
       "      <td>Sun May 03 01:36:27 PDT 2009</td>\n",
       "      <td>NO_QUERY</td>\n",
       "      <td>_MatthewShaw_</td>\n",
       "      <td>all that pizza yesterday has left me feeling s...</td>\n",
       "    </tr>\n",
       "    <tr>\n",
       "      <th>4</th>\n",
       "      <td>0</td>\n",
       "      <td>1970686901</td>\n",
       "      <td>Sat May 30 04:50:47 PDT 2009</td>\n",
       "      <td>NO_QUERY</td>\n",
       "      <td>Thunderous</td>\n",
       "      <td>@cherryroad I haven't watched any Ten episodes...</td>\n",
       "    </tr>\n",
       "    <tr>\n",
       "      <th>...</th>\n",
       "      <td>...</td>\n",
       "      <td>...</td>\n",
       "      <td>...</td>\n",
       "      <td>...</td>\n",
       "      <td>...</td>\n",
       "      <td>...</td>\n",
       "    </tr>\n",
       "    <tr>\n",
       "      <th>59995</th>\n",
       "      <td>2</td>\n",
       "      <td>2014733992</td>\n",
       "      <td>Wed Jun 03 02:30:35 PDT 2009</td>\n",
       "      <td>NO_QUERY</td>\n",
       "      <td>NameInAHat</td>\n",
       "      <td>Mark from Name In A Hat is wondering where the...</td>\n",
       "    </tr>\n",
       "    <tr>\n",
       "      <th>59996</th>\n",
       "      <td>4</td>\n",
       "      <td>1759610024</td>\n",
       "      <td>Sun May 10 19:35:33 PDT 2009</td>\n",
       "      <td>NO_QUERY</td>\n",
       "      <td>OMGitsAndrea</td>\n",
       "      <td>@kathryntft ahhh man, THAT SUCKS!  but alright...</td>\n",
       "    </tr>\n",
       "    <tr>\n",
       "      <th>59997</th>\n",
       "      <td>0</td>\n",
       "      <td>2244414725</td>\n",
       "      <td>Fri Jun 19 14:42:56 PDT 2009</td>\n",
       "      <td>NO_QUERY</td>\n",
       "      <td>Susie_Fairchild</td>\n",
       "      <td>Apologizing to all those who got an email from...</td>\n",
       "    </tr>\n",
       "    <tr>\n",
       "      <th>59998</th>\n",
       "      <td>0</td>\n",
       "      <td>2253040964</td>\n",
       "      <td>Sat Jun 20 07:28:34 PDT 2009</td>\n",
       "      <td>NO_QUERY</td>\n",
       "      <td>robbiewhitee</td>\n",
       "      <td>fuck work. I wanna see my dog</td>\n",
       "    </tr>\n",
       "    <tr>\n",
       "      <th>59999</th>\n",
       "      <td>2</td>\n",
       "      <td>1795507078</td>\n",
       "      <td>Thu May 14 07:53:37 PDT 2009</td>\n",
       "      <td>NO_QUERY</td>\n",
       "      <td>Arbeiteninkapst</td>\n",
       "      <td>You can find our new office on 110 Long Street...</td>\n",
       "    </tr>\n",
       "  </tbody>\n",
       "</table>\n",
       "<p>60000 rows × 6 columns</p>\n",
       "</div>"
      ],
      "text/plain": [
       "       polarity          id                          date     query  \\\n",
       "0             0  2249354965  Fri Jun 19 22:10:32 PDT 2009  NO_QUERY   \n",
       "1             4  2251397506  Sat Jun 20 03:22:27 PDT 2009  NO_QUERY   \n",
       "2             4  1469220718  Tue Apr 07 05:39:28 PDT 2009  NO_QUERY   \n",
       "3             0  1685695518  Sun May 03 01:36:27 PDT 2009  NO_QUERY   \n",
       "4             0  1970686901  Sat May 30 04:50:47 PDT 2009  NO_QUERY   \n",
       "...         ...         ...                           ...       ...   \n",
       "59995         2  2014733992  Wed Jun 03 02:30:35 PDT 2009  NO_QUERY   \n",
       "59996         4  1759610024  Sun May 10 19:35:33 PDT 2009  NO_QUERY   \n",
       "59997         0  2244414725  Fri Jun 19 14:42:56 PDT 2009  NO_QUERY   \n",
       "59998         0  2253040964  Sat Jun 20 07:28:34 PDT 2009  NO_QUERY   \n",
       "59999         2  1795507078  Thu May 14 07:53:37 PDT 2009  NO_QUERY   \n",
       "\n",
       "                  user                                               text  \n",
       "0          onerainyday   still walking... wish i knew what was wrong w...  \n",
       "1            ICheetahI  We saw the cutest (other than Gremlin and Gizm...  \n",
       "2               Illy02               @illy5G i love ur backround pic...    \n",
       "3        _MatthewShaw_  all that pizza yesterday has left me feeling s...  \n",
       "4           Thunderous  @cherryroad I haven't watched any Ten episodes...  \n",
       "...                ...                                                ...  \n",
       "59995       NameInAHat  Mark from Name In A Hat is wondering where the...  \n",
       "59996     OMGitsAndrea  @kathryntft ahhh man, THAT SUCKS!  but alright...  \n",
       "59997  Susie_Fairchild  Apologizing to all those who got an email from...  \n",
       "59998     robbiewhitee                     fuck work. I wanna see my dog   \n",
       "59999  Arbeiteninkapst  You can find our new office on 110 Long Street...  \n",
       "\n",
       "[60000 rows x 6 columns]"
      ]
     },
     "execution_count": 5,
     "metadata": {},
     "output_type": "execute_result"
    }
   ],
   "source": [
    "balanced_dataset"
   ]
  },
  {
   "cell_type": "code",
   "execution_count": 6,
   "id": "75416a60",
   "metadata": {
    "id": "75416a60"
   },
   "outputs": [
    {
     "data": {
      "text/plain": [
       "(60000, 6)"
      ]
     },
     "execution_count": 6,
     "metadata": {},
     "output_type": "execute_result"
    }
   ],
   "source": [
    "balanced_dataset.shape"
   ]
  },
  {
   "cell_type": "code",
   "execution_count": 7,
   "id": "44b6f7a8",
   "metadata": {
    "id": "44b6f7a8"
   },
   "outputs": [
    {
     "name": "stdout",
     "output_type": "stream",
     "text": [
      "polarity\n",
      "0    20000\n",
      "4    20000\n",
      "2    20000\n",
      "Name: count, dtype: int64\n"
     ]
    }
   ],
   "source": [
    "# Count the occurrences of each sentiment label\n",
    "sentiment_counts = balanced_dataset['polarity'].value_counts()\n",
    "\n",
    "# Print the counts\n",
    "print(sentiment_counts)"
   ]
  },
  {
   "cell_type": "markdown",
   "id": "7d7e1d53",
   "metadata": {},
   "source": [
    "# Sentiment Caterory Distribution Plot"
   ]
  },
  {
   "cell_type": "code",
   "execution_count": 8,
   "id": "2816f5cf",
   "metadata": {
    "id": "2816f5cf",
    "scrolled": true
   },
   "outputs": [
    {
     "data": {
      "image/png": "[encoded data removed]",
      "text/plain": [
       "<Figure size 640x480 with 1 Axes>"
      ]
     },
     "metadata": {},
     "output_type": "display_data"
    }
   ],
   "source": [
    "# Create a bar plot\n",
    "sns.barplot(x=sentiment_counts.index, y=sentiment_counts.values, palette='viridis')\n",
    "\n",
    "# Adding titles and labels\n",
    "plt.title('Sentiment Category Distribution')\n",
    "plt.xlabel('Sentiment Categories')\n",
    "plt.ylabel('Number of Tweets')\n",
    "plt.xticks(ticks=[0, 1, 2], labels=['Negative', 'Neutral', 'Positive'])  # Assuming 0 = Negative, 2 = Neutral, 4 = Positive\n",
    "\n",
    "# Show the plot\n",
    "plt.show()"
   ]
  },
  {
   "cell_type": "markdown",
   "id": "7a6f6b97",
   "metadata": {},
   "source": [
    "# Data Cleaning "
   ]
  },
  {
   "cell_type": "code",
   "execution_count": 9,
   "id": "99b0da79",
   "metadata": {
    "id": "99b0da79",
    "scrolled": true
   },
   "outputs": [
    {
     "name": "stderr",
     "output_type": "stream",
     "text": [
      "[nltk_data] Downloading package punkt to\n",
      "[nltk_data]     /Users/swayamprava/nltk_data...\n",
      "[nltk_data]   Package punkt is already up-to-date!\n",
      "[nltk_data] Downloading package stopwords to\n",
      "[nltk_data]     /Users/swayamprava/nltk_data...\n",
      "[nltk_data]   Package stopwords is already up-to-date!\n",
      "[nltk_data] Downloading package wordnet to\n",
      "[nltk_data]     /Users/swayamprava/nltk_data...\n",
      "[nltk_data]   Package wordnet is already up-to-date!\n"
     ]
    },
    {
     "name": "stdout",
     "output_type": "stream",
     "text": [
      "hello world check amazing\n"
     ]
    }
   ],
   "source": [
    "nltk.download('punkt')\n",
    "nltk.download('stopwords')\n",
    "nltk.download('wordnet')\n",
    "\n",
    "def clean_tweet(tweet):\n",
    "    # Remove URLs\n",
    "    tweet = re.sub(r'http\\S+|www\\S+|https\\S+', '', tweet, flags=re.MULTILINE)\n",
    "    # Remove user @ references and '#' from tweet\n",
    "    tweet = re.sub(r'\\@\\w+|\\#','', tweet)\n",
    "    # Remove HTML tags\n",
    "    tweet = re.sub(r'<.*?>', '', tweet)\n",
    "    # Remove everything that is not letters\n",
    "    tweet = re.sub(r'[^a-zA-Z]', ' ', tweet)\n",
    "    # Tokenize text\n",
    "    tweet_tokens = word_tokenize(tweet)\n",
    "    # Remove stopwords\n",
    "    filtered_words = [word.lower() for word in tweet_tokens if word.lower() not in stopwords.words('english')]\n",
    "\n",
    "    # Lemmatization\n",
    "    lemmatizer = WordNetLemmatizer()\n",
    "    lemmatized_words = [lemmatizer.lemmatize(word) for word in filtered_words]\n",
    "\n",
    "    return \" \".join(lemmatized_words)\n",
    "\n",
    "\n",
    "# Example usage\n",
    "example_tweet = \"Hello world! Check this out: https://example.com 😊 @user #amazing\"\n",
    "cleaned_tweet = clean_tweet(example_tweet)\n",
    "print(cleaned_tweet)\n"
   ]
  },
  {
   "cell_type": "code",
   "execution_count": 10,
   "id": "8a42cac4",
   "metadata": {
    "id": "8a42cac4"
   },
   "outputs": [
    {
     "data": {
      "text/html": [
       "<div>\n",
       "<style scoped>\n",
       "    .dataframe tbody tr th:only-of-type {\n",
       "        vertical-align: middle;\n",
       "    }\n",
       "\n",
       "    .dataframe tbody tr th {\n",
       "        vertical-align: top;\n",
       "    }\n",
       "\n",
       "    .dataframe thead th {\n",
       "        text-align: right;\n",
       "    }\n",
       "</style>\n",
       "<table border=\"1\" class=\"dataframe\">\n",
       "  <thead>\n",
       "    <tr style=\"text-align: right;\">\n",
       "      <th></th>\n",
       "      <th>polarity</th>\n",
       "      <th>id</th>\n",
       "      <th>date</th>\n",
       "      <th>query</th>\n",
       "      <th>user</th>\n",
       "      <th>text</th>\n",
       "    </tr>\n",
       "  </thead>\n",
       "  <tbody>\n",
       "    <tr>\n",
       "      <th>0</th>\n",
       "      <td>0</td>\n",
       "      <td>2249354965</td>\n",
       "      <td>Fri Jun 19 22:10:32 PDT 2009</td>\n",
       "      <td>NO_QUERY</td>\n",
       "      <td>onerainyday</td>\n",
       "      <td>still walking... wish i knew what was wrong w...</td>\n",
       "    </tr>\n",
       "    <tr>\n",
       "      <th>1</th>\n",
       "      <td>4</td>\n",
       "      <td>2251397506</td>\n",
       "      <td>Sat Jun 20 03:22:27 PDT 2009</td>\n",
       "      <td>NO_QUERY</td>\n",
       "      <td>ICheetahI</td>\n",
       "      <td>We saw the cutest (other than Gremlin and Gizm...</td>\n",
       "    </tr>\n",
       "    <tr>\n",
       "      <th>2</th>\n",
       "      <td>4</td>\n",
       "      <td>1469220718</td>\n",
       "      <td>Tue Apr 07 05:39:28 PDT 2009</td>\n",
       "      <td>NO_QUERY</td>\n",
       "      <td>Illy02</td>\n",
       "      <td>@illy5G i love ur backround pic...</td>\n",
       "    </tr>\n",
       "    <tr>\n",
       "      <th>3</th>\n",
       "      <td>0</td>\n",
       "      <td>1685695518</td>\n",
       "      <td>Sun May 03 01:36:27 PDT 2009</td>\n",
       "      <td>NO_QUERY</td>\n",
       "      <td>_MatthewShaw_</td>\n",
       "      <td>all that pizza yesterday has left me feeling s...</td>\n",
       "    </tr>\n",
       "    <tr>\n",
       "      <th>4</th>\n",
       "      <td>0</td>\n",
       "      <td>1970686901</td>\n",
       "      <td>Sat May 30 04:50:47 PDT 2009</td>\n",
       "      <td>NO_QUERY</td>\n",
       "      <td>Thunderous</td>\n",
       "      <td>@cherryroad I haven't watched any Ten episodes...</td>\n",
       "    </tr>\n",
       "    <tr>\n",
       "      <th>...</th>\n",
       "      <td>...</td>\n",
       "      <td>...</td>\n",
       "      <td>...</td>\n",
       "      <td>...</td>\n",
       "      <td>...</td>\n",
       "      <td>...</td>\n",
       "    </tr>\n",
       "    <tr>\n",
       "      <th>59995</th>\n",
       "      <td>2</td>\n",
       "      <td>2014733992</td>\n",
       "      <td>Wed Jun 03 02:30:35 PDT 2009</td>\n",
       "      <td>NO_QUERY</td>\n",
       "      <td>NameInAHat</td>\n",
       "      <td>Mark from Name In A Hat is wondering where the...</td>\n",
       "    </tr>\n",
       "    <tr>\n",
       "      <th>59996</th>\n",
       "      <td>4</td>\n",
       "      <td>1759610024</td>\n",
       "      <td>Sun May 10 19:35:33 PDT 2009</td>\n",
       "      <td>NO_QUERY</td>\n",
       "      <td>OMGitsAndrea</td>\n",
       "      <td>@kathryntft ahhh man, THAT SUCKS!  but alright...</td>\n",
       "    </tr>\n",
       "    <tr>\n",
       "      <th>59997</th>\n",
       "      <td>0</td>\n",
       "      <td>2244414725</td>\n",
       "      <td>Fri Jun 19 14:42:56 PDT 2009</td>\n",
       "      <td>NO_QUERY</td>\n",
       "      <td>Susie_Fairchild</td>\n",
       "      <td>Apologizing to all those who got an email from...</td>\n",
       "    </tr>\n",
       "    <tr>\n",
       "      <th>59998</th>\n",
       "      <td>0</td>\n",
       "      <td>2253040964</td>\n",
       "      <td>Sat Jun 20 07:28:34 PDT 2009</td>\n",
       "      <td>NO_QUERY</td>\n",
       "      <td>robbiewhitee</td>\n",
       "      <td>fuck work. I wanna see my dog</td>\n",
       "    </tr>\n",
       "    <tr>\n",
       "      <th>59999</th>\n",
       "      <td>2</td>\n",
       "      <td>1795507078</td>\n",
       "      <td>Thu May 14 07:53:37 PDT 2009</td>\n",
       "      <td>NO_QUERY</td>\n",
       "      <td>Arbeiteninkapst</td>\n",
       "      <td>You can find our new office on 110 Long Street...</td>\n",
       "    </tr>\n",
       "  </tbody>\n",
       "</table>\n",
       "<p>60000 rows × 6 columns</p>\n",
       "</div>"
      ],
      "text/plain": [
       "       polarity          id                          date     query  \\\n",
       "0             0  2249354965  Fri Jun 19 22:10:32 PDT 2009  NO_QUERY   \n",
       "1             4  2251397506  Sat Jun 20 03:22:27 PDT 2009  NO_QUERY   \n",
       "2             4  1469220718  Tue Apr 07 05:39:28 PDT 2009  NO_QUERY   \n",
       "3             0  1685695518  Sun May 03 01:36:27 PDT 2009  NO_QUERY   \n",
       "4             0  1970686901  Sat May 30 04:50:47 PDT 2009  NO_QUERY   \n",
       "...         ...         ...                           ...       ...   \n",
       "59995         2  2014733992  Wed Jun 03 02:30:35 PDT 2009  NO_QUERY   \n",
       "59996         4  1759610024  Sun May 10 19:35:33 PDT 2009  NO_QUERY   \n",
       "59997         0  2244414725  Fri Jun 19 14:42:56 PDT 2009  NO_QUERY   \n",
       "59998         0  2253040964  Sat Jun 20 07:28:34 PDT 2009  NO_QUERY   \n",
       "59999         2  1795507078  Thu May 14 07:53:37 PDT 2009  NO_QUERY   \n",
       "\n",
       "                  user                                               text  \n",
       "0          onerainyday   still walking... wish i knew what was wrong w...  \n",
       "1            ICheetahI  We saw the cutest (other than Gremlin and Gizm...  \n",
       "2               Illy02               @illy5G i love ur backround pic...    \n",
       "3        _MatthewShaw_  all that pizza yesterday has left me feeling s...  \n",
       "4           Thunderous  @cherryroad I haven't watched any Ten episodes...  \n",
       "...                ...                                                ...  \n",
       "59995       NameInAHat  Mark from Name In A Hat is wondering where the...  \n",
       "59996     OMGitsAndrea  @kathryntft ahhh man, THAT SUCKS!  but alright...  \n",
       "59997  Susie_Fairchild  Apologizing to all those who got an email from...  \n",
       "59998     robbiewhitee                     fuck work. I wanna see my dog   \n",
       "59999  Arbeiteninkapst  You can find our new office on 110 Long Street...  \n",
       "\n",
       "[60000 rows x 6 columns]"
      ]
     },
     "execution_count": 10,
     "metadata": {},
     "output_type": "execute_result"
    }
   ],
   "source": [
    "balanced_dataset"
   ]
  },
  {
   "cell_type": "code",
   "execution_count": 11,
   "id": "792cf2ef",
   "metadata": {
    "id": "792cf2ef"
   },
   "outputs": [
    {
     "name": "stdout",
     "output_type": "stream",
     "text": [
      "   polarity          id                          date     query  \\\n",
      "0         0  2249354965  Fri Jun 19 22:10:32 PDT 2009  NO_QUERY   \n",
      "1         4  2251397506  Sat Jun 20 03:22:27 PDT 2009  NO_QUERY   \n",
      "2         4  1469220718  Tue Apr 07 05:39:28 PDT 2009  NO_QUERY   \n",
      "3         0  1685695518  Sun May 03 01:36:27 PDT 2009  NO_QUERY   \n",
      "4         0  1970686901  Sat May 30 04:50:47 PDT 2009  NO_QUERY   \n",
      "\n",
      "            user                                               text  \\\n",
      "0    onerainyday   still walking... wish i knew what was wrong w...   \n",
      "1      ICheetahI  We saw the cutest (other than Gremlin and Gizm...   \n",
      "2         Illy02               @illy5G i love ur backround pic...     \n",
      "3  _MatthewShaw_  all that pizza yesterday has left me feeling s...   \n",
      "4     Thunderous  @cherryroad I haven't watched any Ten episodes...   \n",
      "\n",
      "                                        cleaned_text  \n",
      "0  still walking wish knew wrong throat dry leg numb  \n",
      "1  saw cutest gremlin gizmo ferret ever want bad ...  \n",
      "2                              love ur backround pic  \n",
      "3                   pizza yesterday left feeling ill  \n",
      "4  watched ten episode oh want nine doctor foreve...  \n"
     ]
    }
   ],
   "source": [
    "# Applying the cleaning function to the 'text' column\n",
    "balanced_dataset['cleaned_text'] = balanced_dataset['text'].apply(clean_tweet)\n",
    "\n",
    "# Save the cleaned dataset\n",
    "balanced_dataset.to_csv('balanced_dataset_cleaned.csv', index=False)\n",
    "\n",
    "# Display the first few rows to inspect the cleaning\n",
    "print(balanced_dataset.head())\n"
   ]
  },
  {
   "cell_type": "code",
   "execution_count": 12,
   "id": "cbf47897",
   "metadata": {
    "id": "cbf47897"
   },
   "outputs": [
    {
     "data": {
      "text/html": [
       "<div>\n",
       "<style scoped>\n",
       "    .dataframe tbody tr th:only-of-type {\n",
       "        vertical-align: middle;\n",
       "    }\n",
       "\n",
       "    .dataframe tbody tr th {\n",
       "        vertical-align: top;\n",
       "    }\n",
       "\n",
       "    .dataframe thead th {\n",
       "        text-align: right;\n",
       "    }\n",
       "</style>\n",
       "<table border=\"1\" class=\"dataframe\">\n",
       "  <thead>\n",
       "    <tr style=\"text-align: right;\">\n",
       "      <th></th>\n",
       "      <th>polarity</th>\n",
       "      <th>id</th>\n",
       "      <th>date</th>\n",
       "      <th>query</th>\n",
       "      <th>user</th>\n",
       "      <th>text</th>\n",
       "      <th>cleaned_text</th>\n",
       "    </tr>\n",
       "  </thead>\n",
       "  <tbody>\n",
       "    <tr>\n",
       "      <th>0</th>\n",
       "      <td>0</td>\n",
       "      <td>2249354965</td>\n",
       "      <td>Fri Jun 19 22:10:32 PDT 2009</td>\n",
       "      <td>NO_QUERY</td>\n",
       "      <td>onerainyday</td>\n",
       "      <td>still walking... wish i knew what was wrong w...</td>\n",
       "      <td>still walking wish knew wrong throat dry leg numb</td>\n",
       "    </tr>\n",
       "    <tr>\n",
       "      <th>1</th>\n",
       "      <td>4</td>\n",
       "      <td>2251397506</td>\n",
       "      <td>Sat Jun 20 03:22:27 PDT 2009</td>\n",
       "      <td>NO_QUERY</td>\n",
       "      <td>ICheetahI</td>\n",
       "      <td>We saw the cutest (other than Gremlin and Gizm...</td>\n",
       "      <td>saw cutest gremlin gizmo ferret ever want bad ...</td>\n",
       "    </tr>\n",
       "    <tr>\n",
       "      <th>2</th>\n",
       "      <td>4</td>\n",
       "      <td>1469220718</td>\n",
       "      <td>Tue Apr 07 05:39:28 PDT 2009</td>\n",
       "      <td>NO_QUERY</td>\n",
       "      <td>Illy02</td>\n",
       "      <td>@illy5G i love ur backround pic...</td>\n",
       "      <td>love ur backround pic</td>\n",
       "    </tr>\n",
       "    <tr>\n",
       "      <th>3</th>\n",
       "      <td>0</td>\n",
       "      <td>1685695518</td>\n",
       "      <td>Sun May 03 01:36:27 PDT 2009</td>\n",
       "      <td>NO_QUERY</td>\n",
       "      <td>_MatthewShaw_</td>\n",
       "      <td>all that pizza yesterday has left me feeling s...</td>\n",
       "      <td>pizza yesterday left feeling ill</td>\n",
       "    </tr>\n",
       "    <tr>\n",
       "      <th>4</th>\n",
       "      <td>0</td>\n",
       "      <td>1970686901</td>\n",
       "      <td>Sat May 30 04:50:47 PDT 2009</td>\n",
       "      <td>NO_QUERY</td>\n",
       "      <td>Thunderous</td>\n",
       "      <td>@cherryroad I haven't watched any Ten episodes...</td>\n",
       "      <td>watched ten episode oh want nine doctor foreve...</td>\n",
       "    </tr>\n",
       "    <tr>\n",
       "      <th>...</th>\n",
       "      <td>...</td>\n",
       "      <td>...</td>\n",
       "      <td>...</td>\n",
       "      <td>...</td>\n",
       "      <td>...</td>\n",
       "      <td>...</td>\n",
       "      <td>...</td>\n",
       "    </tr>\n",
       "    <tr>\n",
       "      <th>59995</th>\n",
       "      <td>2</td>\n",
       "      <td>2014733992</td>\n",
       "      <td>Wed Jun 03 02:30:35 PDT 2009</td>\n",
       "      <td>NO_QUERY</td>\n",
       "      <td>NameInAHat</td>\n",
       "      <td>Mark from Name In A Hat is wondering where the...</td>\n",
       "      <td>mark name hat wondering sun gone oh well movin...</td>\n",
       "    </tr>\n",
       "    <tr>\n",
       "      <th>59996</th>\n",
       "      <td>4</td>\n",
       "      <td>1759610024</td>\n",
       "      <td>Sun May 10 19:35:33 PDT 2009</td>\n",
       "      <td>NO_QUERY</td>\n",
       "      <td>OMGitsAndrea</td>\n",
       "      <td>@kathryntft ahhh man, THAT SUCKS!  but alright...</td>\n",
       "      <td>ahhh man suck alright plan seeing mga thursday</td>\n",
       "    </tr>\n",
       "    <tr>\n",
       "      <th>59997</th>\n",
       "      <td>0</td>\n",
       "      <td>2244414725</td>\n",
       "      <td>Fri Jun 19 14:42:56 PDT 2009</td>\n",
       "      <td>NO_QUERY</td>\n",
       "      <td>Susie_Fairchild</td>\n",
       "      <td>Apologizing to all those who got an email from...</td>\n",
       "      <td>apologizing got email zillion time today swear...</td>\n",
       "    </tr>\n",
       "    <tr>\n",
       "      <th>59998</th>\n",
       "      <td>0</td>\n",
       "      <td>2253040964</td>\n",
       "      <td>Sat Jun 20 07:28:34 PDT 2009</td>\n",
       "      <td>NO_QUERY</td>\n",
       "      <td>robbiewhitee</td>\n",
       "      <td>fuck work. I wanna see my dog</td>\n",
       "      <td>fuck work wan na see dog</td>\n",
       "    </tr>\n",
       "    <tr>\n",
       "      <th>59999</th>\n",
       "      <td>2</td>\n",
       "      <td>1795507078</td>\n",
       "      <td>Thu May 14 07:53:37 PDT 2009</td>\n",
       "      <td>NO_QUERY</td>\n",
       "      <td>Arbeiteninkapst</td>\n",
       "      <td>You can find our new office on 110 Long Street...</td>\n",
       "      <td>find new office long street st floor waiting</td>\n",
       "    </tr>\n",
       "  </tbody>\n",
       "</table>\n",
       "<p>60000 rows × 7 columns</p>\n",
       "</div>"
      ],
      "text/plain": [
       "       polarity          id                          date     query  \\\n",
       "0             0  2249354965  Fri Jun 19 22:10:32 PDT 2009  NO_QUERY   \n",
       "1             4  2251397506  Sat Jun 20 03:22:27 PDT 2009  NO_QUERY   \n",
       "2             4  1469220718  Tue Apr 07 05:39:28 PDT 2009  NO_QUERY   \n",
       "3             0  1685695518  Sun May 03 01:36:27 PDT 2009  NO_QUERY   \n",
       "4             0  1970686901  Sat May 30 04:50:47 PDT 2009  NO_QUERY   \n",
       "...         ...         ...                           ...       ...   \n",
       "59995         2  2014733992  Wed Jun 03 02:30:35 PDT 2009  NO_QUERY   \n",
       "59996         4  1759610024  Sun May 10 19:35:33 PDT 2009  NO_QUERY   \n",
       "59997         0  2244414725  Fri Jun 19 14:42:56 PDT 2009  NO_QUERY   \n",
       "59998         0  2253040964  Sat Jun 20 07:28:34 PDT 2009  NO_QUERY   \n",
       "59999         2  1795507078  Thu May 14 07:53:37 PDT 2009  NO_QUERY   \n",
       "\n",
       "                  user                                               text  \\\n",
       "0          onerainyday   still walking... wish i knew what was wrong w...   \n",
       "1            ICheetahI  We saw the cutest (other than Gremlin and Gizm...   \n",
       "2               Illy02               @illy5G i love ur backround pic...     \n",
       "3        _MatthewShaw_  all that pizza yesterday has left me feeling s...   \n",
       "4           Thunderous  @cherryroad I haven't watched any Ten episodes...   \n",
       "...                ...                                                ...   \n",
       "59995       NameInAHat  Mark from Name In A Hat is wondering where the...   \n",
       "59996     OMGitsAndrea  @kathryntft ahhh man, THAT SUCKS!  but alright...   \n",
       "59997  Susie_Fairchild  Apologizing to all those who got an email from...   \n",
       "59998     robbiewhitee                     fuck work. I wanna see my dog    \n",
       "59999  Arbeiteninkapst  You can find our new office on 110 Long Street...   \n",
       "\n",
       "                                            cleaned_text  \n",
       "0      still walking wish knew wrong throat dry leg numb  \n",
       "1      saw cutest gremlin gizmo ferret ever want bad ...  \n",
       "2                                  love ur backround pic  \n",
       "3                       pizza yesterday left feeling ill  \n",
       "4      watched ten episode oh want nine doctor foreve...  \n",
       "...                                                  ...  \n",
       "59995  mark name hat wondering sun gone oh well movin...  \n",
       "59996     ahhh man suck alright plan seeing mga thursday  \n",
       "59997  apologizing got email zillion time today swear...  \n",
       "59998                           fuck work wan na see dog  \n",
       "59999       find new office long street st floor waiting  \n",
       "\n",
       "[60000 rows x 7 columns]"
      ]
     },
     "execution_count": 12,
     "metadata": {},
     "output_type": "execute_result"
    }
   ],
   "source": [
    "balanced_dataset"
   ]
  },
  {
   "cell_type": "markdown",
   "id": "bd80ce62",
   "metadata": {},
   "source": [
    "## Rename the 'polarity' column to 'label and Replace numeric labels with text labels"
   ]
  },
  {
   "cell_type": "code",
   "execution_count": 13,
   "id": "773c12c0",
   "metadata": {
    "id": "773c12c0"
   },
   "outputs": [
    {
     "name": "stdout",
     "output_type": "stream",
     "text": [
      "      label                                       cleaned_text\n",
      "0  negative  still walking wish knew wrong throat dry leg numb\n",
      "1  positive  saw cutest gremlin gizmo ferret ever want bad ...\n",
      "2  positive                              love ur backround pic\n",
      "3  negative                   pizza yesterday left feeling ill\n",
      "4  negative  watched ten episode oh want nine doctor foreve...\n"
     ]
    }
   ],
   "source": [
    "# Rename the 'polarity' column to 'label'\n",
    "balanced_dataset.rename(columns={'polarity': 'label'}, inplace=True)\n",
    "\n",
    "# Replace numeric labels with text labels\n",
    "label_map = {0: 'negative', 2: 'neutral', 4: 'positive'}\n",
    "balanced_dataset['label'] = balanced_dataset['label'].map(label_map)\n",
    "\n",
    "# Drop unnecessary columns\n",
    "columns_to_drop = ['id', 'date', 'query', 'user', 'text']\n",
    "balanced_dataset.drop(columns=columns_to_drop, inplace=True)\n",
    "\n",
    "# Save the cleaned dataset to a new CSV file (optional)\n",
    "balanced_dataset.to_csv('final_cleaned_dataset.csv', index=False)\n",
    "\n",
    "# Display the first few rows to confirm changes\n",
    "print(balanced_dataset.head())\n"
   ]
  },
  {
   "cell_type": "code",
   "execution_count": 14,
   "id": "50eb074c",
   "metadata": {
    "id": "50eb074c"
   },
   "outputs": [
    {
     "data": {
      "text/html": [
       "<div>\n",
       "<style scoped>\n",
       "    .dataframe tbody tr th:only-of-type {\n",
       "        vertical-align: middle;\n",
       "    }\n",
       "\n",
       "    .dataframe tbody tr th {\n",
       "        vertical-align: top;\n",
       "    }\n",
       "\n",
       "    .dataframe thead th {\n",
       "        text-align: right;\n",
       "    }\n",
       "</style>\n",
       "<table border=\"1\" class=\"dataframe\">\n",
       "  <thead>\n",
       "    <tr style=\"text-align: right;\">\n",
       "      <th></th>\n",
       "      <th>label</th>\n",
       "      <th>cleaned_text</th>\n",
       "    </tr>\n",
       "  </thead>\n",
       "  <tbody>\n",
       "    <tr>\n",
       "      <th>0</th>\n",
       "      <td>negative</td>\n",
       "      <td>still walking wish knew wrong throat dry leg numb</td>\n",
       "    </tr>\n",
       "    <tr>\n",
       "      <th>1</th>\n",
       "      <td>positive</td>\n",
       "      <td>saw cutest gremlin gizmo ferret ever want bad ...</td>\n",
       "    </tr>\n",
       "    <tr>\n",
       "      <th>2</th>\n",
       "      <td>positive</td>\n",
       "      <td>love ur backround pic</td>\n",
       "    </tr>\n",
       "    <tr>\n",
       "      <th>3</th>\n",
       "      <td>negative</td>\n",
       "      <td>pizza yesterday left feeling ill</td>\n",
       "    </tr>\n",
       "    <tr>\n",
       "      <th>4</th>\n",
       "      <td>negative</td>\n",
       "      <td>watched ten episode oh want nine doctor foreve...</td>\n",
       "    </tr>\n",
       "    <tr>\n",
       "      <th>...</th>\n",
       "      <td>...</td>\n",
       "      <td>...</td>\n",
       "    </tr>\n",
       "    <tr>\n",
       "      <th>59995</th>\n",
       "      <td>neutral</td>\n",
       "      <td>mark name hat wondering sun gone oh well movin...</td>\n",
       "    </tr>\n",
       "    <tr>\n",
       "      <th>59996</th>\n",
       "      <td>positive</td>\n",
       "      <td>ahhh man suck alright plan seeing mga thursday</td>\n",
       "    </tr>\n",
       "    <tr>\n",
       "      <th>59997</th>\n",
       "      <td>negative</td>\n",
       "      <td>apologizing got email zillion time today swear...</td>\n",
       "    </tr>\n",
       "    <tr>\n",
       "      <th>59998</th>\n",
       "      <td>negative</td>\n",
       "      <td>fuck work wan na see dog</td>\n",
       "    </tr>\n",
       "    <tr>\n",
       "      <th>59999</th>\n",
       "      <td>neutral</td>\n",
       "      <td>find new office long street st floor waiting</td>\n",
       "    </tr>\n",
       "  </tbody>\n",
       "</table>\n",
       "<p>60000 rows × 2 columns</p>\n",
       "</div>"
      ],
      "text/plain": [
       "          label                                       cleaned_text\n",
       "0      negative  still walking wish knew wrong throat dry leg numb\n",
       "1      positive  saw cutest gremlin gizmo ferret ever want bad ...\n",
       "2      positive                              love ur backround pic\n",
       "3      negative                   pizza yesterday left feeling ill\n",
       "4      negative  watched ten episode oh want nine doctor foreve...\n",
       "...         ...                                                ...\n",
       "59995   neutral  mark name hat wondering sun gone oh well movin...\n",
       "59996  positive     ahhh man suck alright plan seeing mga thursday\n",
       "59997  negative  apologizing got email zillion time today swear...\n",
       "59998  negative                           fuck work wan na see dog\n",
       "59999   neutral       find new office long street st floor waiting\n",
       "\n",
       "[60000 rows x 2 columns]"
      ]
     },
     "execution_count": 14,
     "metadata": {},
     "output_type": "execute_result"
    }
   ],
   "source": [
    "balanced_dataset"
   ]
  },
  {
   "cell_type": "code",
   "execution_count": 15,
   "id": "d27ef562",
   "metadata": {
    "id": "d27ef562"
   },
   "outputs": [],
   "source": [
    "contractions_dict = {\n",
    "    \"ain't\": \"is not\", \"aren't\": \"are not\", \"can't\": \"cannot\", \"can't've\": \"cannot have\",\n",
    "    \"cause\": \"because\", \"could've\": \"could have\", \"couldn't\": \"could not\",\n",
    "    \"couldn't've\": \"could not have\", \"didn't\": \"did not\", \"doesn't\": \"does not\",\n",
    "    \"don't\": \"do not\", \"hadn't\": \"had not\", \"hadn't've\": \"had not have\",\n",
    "    \"hasn't\": \"has not\", \"haven't\": \"have not\", \"he'd\": \"he would\",\n",
    "    \"he'd've\": \"he would have\", \"he'll\": \"he will\", \"he'll've\": \"he will have\",\n",
    "    \"he's\": \"he is\", \"how'd\": \"how did\", \"how'd'y\": \"how do you\", \"how'll\": \"how will\",\n",
    "    \"how's\": \"how is\", \"I'd\": \"I would\", \"I'd've\": \"I would have\", \"I'll\": \"I will\",\n",
    "    \"I'll've\": \"I will have\", \"I'm\": \"I am\", \"I've\": \"I have\", \"isn't\": \"is not\",\n",
    "    \"it'd\": \"it had\", \"it'd've\": \"it would have\", \"it'll\": \"it will\",\n",
    "    \"it'll've\": \"it will have\", \"it's\": \"it is\", \"let's\": \"let us\", \"ma'am\": \"madam\",\n",
    "    \"mayn't\": \"may not\", \"might've\": \"might have\", \"mightn't\": \"might not\",\n",
    "    \"mightn't've\": \"might not have\", \"must've\": \"must have\", \"mustn't\": \"must not\",\n",
    "    \"mustn't've\": \"must not have\", \"needn't\": \"need not\", \"needn't've\": \"need not have\",\n",
    "    \"o'clock\": \"of the clock\", \"oughtn't\": \"ought not\", \"oughtn't've\": \"ought not have\",\n",
    "    \"shan't\": \"shall not\", \"sha'n't\": \"shall not\", \"shan't've\": \"shall not have\",\n",
    "    \"she'd\": \"she would\", \"she'd've\": \"she would have\", \"she'll\": \"she will\",\n",
    "    \"she'll've\": \"she will have\", \"she's\": \"she is\", \"should've\": \"should have\",\n",
    "    \"shouldn't\": \"should not\", \"shouldn't've\": \"should not have\", \"so've\": \"so have\",\n",
    "    \"so's\": \"so is\", \"that'd\": \"that would\", \"that'd've\": \"that would have\",\n",
    "    \"that's\": \"that is\", \"there'd\": \"there would\", \"there'd've\": \"there would have\",\n",
    "    \"there's\": \"there is\", \"they'd\": \"they would\", \"they'd've\": \"they would have\",\n",
    "    \"they'll\": \"they will\", \"they'll've\": \"they will have\", \"they're\": \"they are\",\n",
    "    \"they've\": \"they have\", \"to've\": \"to have\", \"wasn't\": \"was not\", \"we'd\": \"we would\",\n",
    "    \"we'd've\": \"we would have\", \"we'll\": \"we will\", \"we'll've\": \"we will have\",\n",
    "    \"we're\": \"we are\", \"we've\": \"we have\", \"weren't\": \"were not\", \"what'll\": \"what will\",\n",
    "    \"what'll've\": \"what will have\", \"what're\": \"what are\", \"what's\": \"what is\",\n",
    "    \"what've\": \"what have\", \"when's\": \"when is\", \"when've\": \"when have\",\n",
    "    \"where'd\": \"where did\", \"where's\": \"where is\", \"where've\": \"where have\",\n",
    "    \"who'll\": \"who will\", \"who'll've\": \"who will have\", \"who's\": \"who is\",\n",
    "    \"who've\": \"who have\", \"why's\": \"why is\", \"why've\": \"why have\", \"will've\": \"will have\",\n",
    "    \"won't\": \"will not\", \"won't've\": \"will not have\", \"would've\": \"would have\",\n",
    "    \"wouldn't\": \"would not\", \"wouldn't've\": \"would not have\", \"y'all\": \"you all\",\n",
    "    \"y'all'd\": \"you all would\", \"y'all'd've\": \"you all would have\",\n",
    "    \"y'all're\": \"you all are\", \"y'all've\": \"you all have\", \"you'd\": \"you would\",\n",
    "    \"you'd've\": \"you would have\", \"you'll\": \"you will\", \"you'll've\": \"you will have\",\n",
    "    \"you're\": \"you are\", \"you've\": \"you have\"\n",
    "}\n"
   ]
  },
  {
   "cell_type": "code",
   "execution_count": 16,
   "id": "03cdc644",
   "metadata": {
    "id": "03cdc644"
   },
   "outputs": [
    {
     "name": "stdout",
     "output_type": "stream",
     "text": [
      "I am here and I have been waiting.\n"
     ]
    }
   ],
   "source": [
    "def expand_contractions(text, contractions_dict):\n",
    "    contractions_pattern = re.compile('({})'.format('|'.join(contractions_dict.keys())), flags=re.IGNORECASE|re.DOTALL)\n",
    "    def expand_match(contraction):\n",
    "        match = contraction.group(0)\n",
    "        first_char = match[0]\n",
    "        expanded_contraction = contractions_dict.get(match) if contractions_dict.get(match) else contractions_dict.get(match.lower())\n",
    "        expanded_contraction = first_char+expanded_contraction[1:]\n",
    "        return expanded_contraction\n",
    "\n",
    "    expanded_text = contractions_pattern.sub(expand_match, text)\n",
    "    return expanded_text\n",
    "\n",
    "# test example:\n",
    "print(expand_contractions(\"I'm here and I've been waiting.\", contractions_dict))\n"
   ]
  },
  {
   "cell_type": "code",
   "execution_count": 17,
   "id": "bd279429",
   "metadata": {
    "id": "bd279429"
   },
   "outputs": [],
   "source": [
    "# Apply the function to the 'cleaned_text' column\n",
    "balanced_dataset['expanded_text'] = balanced_dataset['cleaned_text'].apply(lambda x: expand_contractions(x, contractions_dict))\n"
   ]
  },
  {
   "cell_type": "code",
   "execution_count": 18,
   "id": "494f0ab0",
   "metadata": {
    "id": "494f0ab0"
   },
   "outputs": [
    {
     "name": "stdout",
     "output_type": "stream",
     "text": [
      "      label                                       cleaned_text  \\\n",
      "0  negative  still walking wish knew wrong throat dry leg numb   \n",
      "1  positive  saw cutest gremlin gizmo ferret ever want bad ...   \n",
      "2  positive                              love ur backround pic   \n",
      "3  negative                   pizza yesterday left feeling ill   \n",
      "4  negative  watched ten episode oh want nine doctor foreve...   \n",
      "\n",
      "                                       expanded_text  \n",
      "0  still walking wish knew wrong throat dry leg numb  \n",
      "1  saw cutest gremlin gizmo ferret ever want bad ...  \n",
      "2                              love ur backround pic  \n",
      "3                   pizza yesterday left feeling ill  \n",
      "4  watched ten episode oh want nine doctor foreve...  \n"
     ]
    }
   ],
   "source": [
    "balanced_dataset.to_csv('final_dataset_with_expanded_contractions.csv', index=False)\n",
    "print(balanced_dataset.head())\n"
   ]
  },
  {
   "cell_type": "code",
   "execution_count": 19,
   "id": "912f00a9",
   "metadata": {
    "id": "912f00a9"
   },
   "outputs": [
    {
     "data": {
      "text/html": [
       "<div>\n",
       "<style scoped>\n",
       "    .dataframe tbody tr th:only-of-type {\n",
       "        vertical-align: middle;\n",
       "    }\n",
       "\n",
       "    .dataframe tbody tr th {\n",
       "        vertical-align: top;\n",
       "    }\n",
       "\n",
       "    .dataframe thead th {\n",
       "        text-align: right;\n",
       "    }\n",
       "</style>\n",
       "<table border=\"1\" class=\"dataframe\">\n",
       "  <thead>\n",
       "    <tr style=\"text-align: right;\">\n",
       "      <th></th>\n",
       "      <th>label</th>\n",
       "      <th>cleaned_text</th>\n",
       "      <th>expanded_text</th>\n",
       "    </tr>\n",
       "  </thead>\n",
       "  <tbody>\n",
       "    <tr>\n",
       "      <th>0</th>\n",
       "      <td>negative</td>\n",
       "      <td>still walking wish knew wrong throat dry leg numb</td>\n",
       "      <td>still walking wish knew wrong throat dry leg numb</td>\n",
       "    </tr>\n",
       "    <tr>\n",
       "      <th>1</th>\n",
       "      <td>positive</td>\n",
       "      <td>saw cutest gremlin gizmo ferret ever want bad ...</td>\n",
       "      <td>saw cutest gremlin gizmo ferret ever want bad ...</td>\n",
       "    </tr>\n",
       "    <tr>\n",
       "      <th>2</th>\n",
       "      <td>positive</td>\n",
       "      <td>love ur backround pic</td>\n",
       "      <td>love ur backround pic</td>\n",
       "    </tr>\n",
       "    <tr>\n",
       "      <th>3</th>\n",
       "      <td>negative</td>\n",
       "      <td>pizza yesterday left feeling ill</td>\n",
       "      <td>pizza yesterday left feeling ill</td>\n",
       "    </tr>\n",
       "    <tr>\n",
       "      <th>4</th>\n",
       "      <td>negative</td>\n",
       "      <td>watched ten episode oh want nine doctor foreve...</td>\n",
       "      <td>watched ten episode oh want nine doctor foreve...</td>\n",
       "    </tr>\n",
       "    <tr>\n",
       "      <th>...</th>\n",
       "      <td>...</td>\n",
       "      <td>...</td>\n",
       "      <td>...</td>\n",
       "    </tr>\n",
       "    <tr>\n",
       "      <th>59995</th>\n",
       "      <td>neutral</td>\n",
       "      <td>mark name hat wondering sun gone oh well movin...</td>\n",
       "      <td>mark name hat wondering sun gone oh well movin...</td>\n",
       "    </tr>\n",
       "    <tr>\n",
       "      <th>59996</th>\n",
       "      <td>positive</td>\n",
       "      <td>ahhh man suck alright plan seeing mga thursday</td>\n",
       "      <td>ahhh man suck alright plan seeing mga thursday</td>\n",
       "    </tr>\n",
       "    <tr>\n",
       "      <th>59997</th>\n",
       "      <td>negative</td>\n",
       "      <td>apologizing got email zillion time today swear...</td>\n",
       "      <td>apologizing got email zillion time today swear...</td>\n",
       "    </tr>\n",
       "    <tr>\n",
       "      <th>59998</th>\n",
       "      <td>negative</td>\n",
       "      <td>fuck work wan na see dog</td>\n",
       "      <td>fuck work wan na see dog</td>\n",
       "    </tr>\n",
       "    <tr>\n",
       "      <th>59999</th>\n",
       "      <td>neutral</td>\n",
       "      <td>find new office long street st floor waiting</td>\n",
       "      <td>find new office long street st floor waiting</td>\n",
       "    </tr>\n",
       "  </tbody>\n",
       "</table>\n",
       "<p>60000 rows × 3 columns</p>\n",
       "</div>"
      ],
      "text/plain": [
       "          label                                       cleaned_text  \\\n",
       "0      negative  still walking wish knew wrong throat dry leg numb   \n",
       "1      positive  saw cutest gremlin gizmo ferret ever want bad ...   \n",
       "2      positive                              love ur backround pic   \n",
       "3      negative                   pizza yesterday left feeling ill   \n",
       "4      negative  watched ten episode oh want nine doctor foreve...   \n",
       "...         ...                                                ...   \n",
       "59995   neutral  mark name hat wondering sun gone oh well movin...   \n",
       "59996  positive     ahhh man suck alright plan seeing mga thursday   \n",
       "59997  negative  apologizing got email zillion time today swear...   \n",
       "59998  negative                           fuck work wan na see dog   \n",
       "59999   neutral       find new office long street st floor waiting   \n",
       "\n",
       "                                           expanded_text  \n",
       "0      still walking wish knew wrong throat dry leg numb  \n",
       "1      saw cutest gremlin gizmo ferret ever want bad ...  \n",
       "2                                  love ur backround pic  \n",
       "3                       pizza yesterday left feeling ill  \n",
       "4      watched ten episode oh want nine doctor foreve...  \n",
       "...                                                  ...  \n",
       "59995  mark name hat wondering sun gone oh well movin...  \n",
       "59996     ahhh man suck alright plan seeing mga thursday  \n",
       "59997  apologizing got email zillion time today swear...  \n",
       "59998                           fuck work wan na see dog  \n",
       "59999       find new office long street st floor waiting  \n",
       "\n",
       "[60000 rows x 3 columns]"
      ]
     },
     "execution_count": 19,
     "metadata": {},
     "output_type": "execute_result"
    }
   ],
   "source": [
    "balanced_dataset"
   ]
  },
  {
   "cell_type": "markdown",
   "id": "5d76afe2",
   "metadata": {
    "id": "5d76afe2"
   },
   "source": [
    "# stop word removal"
   ]
  },
  {
   "cell_type": "code",
   "execution_count": 20,
   "id": "8da2100c",
   "metadata": {
    "id": "8da2100c"
   },
   "outputs": [
    {
     "name": "stderr",
     "output_type": "stream",
     "text": [
      "[nltk_data] Downloading package stopwords to\n",
      "[nltk_data]     /Users/swayamprava/nltk_data...\n",
      "[nltk_data]   Package stopwords is already up-to-date!\n",
      "[nltk_data] Downloading package punkt to\n",
      "[nltk_data]     /Users/swayamprava/nltk_data...\n",
      "[nltk_data]   Package punkt is already up-to-date!\n"
     ]
    }
   ],
   "source": [
    "nltk.download('stopwords')\n",
    "nltk.download('punkt')\n",
    "\n",
    "# Load English stopwords\n",
    "stop_words = set(stopwords.words('english'))\n"
   ]
  },
  {
   "cell_type": "code",
   "execution_count": 21,
   "id": "1f00fae7",
   "metadata": {
    "id": "1f00fae7"
   },
   "outputs": [],
   "source": [
    "def remove_stopwords(text):\n",
    "    # Tokenize the text\n",
    "    tokens = word_tokenize(text)\n",
    "    # Remove stopwords and rejoin the filtered words\n",
    "    filtered_text = ' '.join([word for word in tokens if word not in stop_words])\n",
    "    return filtered_text\n"
   ]
  },
  {
   "cell_type": "code",
   "execution_count": 22,
   "id": "e67e51fc",
   "metadata": {
    "id": "e67e51fc"
   },
   "outputs": [
    {
     "name": "stdout",
     "output_type": "stream",
     "text": [
      "      label                                       cleaned_text  \\\n",
      "0  negative  still walking wish knew wrong throat dry leg numb   \n",
      "1  positive  saw cutest gremlin gizmo ferret ever want bad ...   \n",
      "2  positive                              love ur backround pic   \n",
      "3  negative                   pizza yesterday left feeling ill   \n",
      "4  negative  watched ten episode oh want nine doctor foreve...   \n",
      "\n",
      "                                       expanded_text  \\\n",
      "0  still walking wish knew wrong throat dry leg numb   \n",
      "1  saw cutest gremlin gizmo ferret ever want bad ...   \n",
      "2                              love ur backround pic   \n",
      "3                   pizza yesterday left feeling ill   \n",
      "4  watched ten episode oh want nine doctor foreve...   \n",
      "\n",
      "                              text_without_stopwords  \n",
      "0  still walking wish knew wrong throat dry leg numb  \n",
      "1  saw cutest gremlin gizmo ferret ever want bad ...  \n",
      "2                              love ur backround pic  \n",
      "3                   pizza yesterday left feeling ill  \n",
      "4  watched ten episode oh want nine doctor foreve...  \n"
     ]
    }
   ],
   "source": [
    "# Apply the function to the 'expanded_text' column\n",
    "balanced_dataset['text_without_stopwords'] = balanced_dataset['expanded_text'].apply(remove_stopwords)\n",
    "\n",
    "# Check the first few entries to confirm changes\n",
    "print(balanced_dataset.head())\n"
   ]
  },
  {
   "cell_type": "code",
   "execution_count": 23,
   "id": "05777dab",
   "metadata": {
    "id": "05777dab"
   },
   "outputs": [
    {
     "data": {
      "text/html": [
       "<div>\n",
       "<style scoped>\n",
       "    .dataframe tbody tr th:only-of-type {\n",
       "        vertical-align: middle;\n",
       "    }\n",
       "\n",
       "    .dataframe tbody tr th {\n",
       "        vertical-align: top;\n",
       "    }\n",
       "\n",
       "    .dataframe thead th {\n",
       "        text-align: right;\n",
       "    }\n",
       "</style>\n",
       "<table border=\"1\" class=\"dataframe\">\n",
       "  <thead>\n",
       "    <tr style=\"text-align: right;\">\n",
       "      <th></th>\n",
       "      <th>label</th>\n",
       "      <th>cleaned_text</th>\n",
       "      <th>expanded_text</th>\n",
       "      <th>text_without_stopwords</th>\n",
       "    </tr>\n",
       "  </thead>\n",
       "  <tbody>\n",
       "    <tr>\n",
       "      <th>0</th>\n",
       "      <td>negative</td>\n",
       "      <td>still walking wish knew wrong throat dry leg numb</td>\n",
       "      <td>still walking wish knew wrong throat dry leg numb</td>\n",
       "      <td>still walking wish knew wrong throat dry leg numb</td>\n",
       "    </tr>\n",
       "    <tr>\n",
       "      <th>1</th>\n",
       "      <td>positive</td>\n",
       "      <td>saw cutest gremlin gizmo ferret ever want bad ...</td>\n",
       "      <td>saw cutest gremlin gizmo ferret ever want bad ...</td>\n",
       "      <td>saw cutest gremlin gizmo ferret ever want bad ...</td>\n",
       "    </tr>\n",
       "    <tr>\n",
       "      <th>2</th>\n",
       "      <td>positive</td>\n",
       "      <td>love ur backround pic</td>\n",
       "      <td>love ur backround pic</td>\n",
       "      <td>love ur backround pic</td>\n",
       "    </tr>\n",
       "    <tr>\n",
       "      <th>3</th>\n",
       "      <td>negative</td>\n",
       "      <td>pizza yesterday left feeling ill</td>\n",
       "      <td>pizza yesterday left feeling ill</td>\n",
       "      <td>pizza yesterday left feeling ill</td>\n",
       "    </tr>\n",
       "    <tr>\n",
       "      <th>4</th>\n",
       "      <td>negative</td>\n",
       "      <td>watched ten episode oh want nine doctor foreve...</td>\n",
       "      <td>watched ten episode oh want nine doctor foreve...</td>\n",
       "      <td>watched ten episode oh want nine doctor foreve...</td>\n",
       "    </tr>\n",
       "    <tr>\n",
       "      <th>...</th>\n",
       "      <td>...</td>\n",
       "      <td>...</td>\n",
       "      <td>...</td>\n",
       "      <td>...</td>\n",
       "    </tr>\n",
       "    <tr>\n",
       "      <th>59995</th>\n",
       "      <td>neutral</td>\n",
       "      <td>mark name hat wondering sun gone oh well movin...</td>\n",
       "      <td>mark name hat wondering sun gone oh well movin...</td>\n",
       "      <td>mark name hat wondering sun gone oh well movin...</td>\n",
       "    </tr>\n",
       "    <tr>\n",
       "      <th>59996</th>\n",
       "      <td>positive</td>\n",
       "      <td>ahhh man suck alright plan seeing mga thursday</td>\n",
       "      <td>ahhh man suck alright plan seeing mga thursday</td>\n",
       "      <td>ahhh man suck alright plan seeing mga thursday</td>\n",
       "    </tr>\n",
       "    <tr>\n",
       "      <th>59997</th>\n",
       "      <td>negative</td>\n",
       "      <td>apologizing got email zillion time today swear...</td>\n",
       "      <td>apologizing got email zillion time today swear...</td>\n",
       "      <td>apologizing got email zillion time today swear...</td>\n",
       "    </tr>\n",
       "    <tr>\n",
       "      <th>59998</th>\n",
       "      <td>negative</td>\n",
       "      <td>fuck work wan na see dog</td>\n",
       "      <td>fuck work wan na see dog</td>\n",
       "      <td>fuck work wan na see dog</td>\n",
       "    </tr>\n",
       "    <tr>\n",
       "      <th>59999</th>\n",
       "      <td>neutral</td>\n",
       "      <td>find new office long street st floor waiting</td>\n",
       "      <td>find new office long street st floor waiting</td>\n",
       "      <td>find new office long street st floor waiting</td>\n",
       "    </tr>\n",
       "  </tbody>\n",
       "</table>\n",
       "<p>60000 rows × 4 columns</p>\n",
       "</div>"
      ],
      "text/plain": [
       "          label                                       cleaned_text  \\\n",
       "0      negative  still walking wish knew wrong throat dry leg numb   \n",
       "1      positive  saw cutest gremlin gizmo ferret ever want bad ...   \n",
       "2      positive                              love ur backround pic   \n",
       "3      negative                   pizza yesterday left feeling ill   \n",
       "4      negative  watched ten episode oh want nine doctor foreve...   \n",
       "...         ...                                                ...   \n",
       "59995   neutral  mark name hat wondering sun gone oh well movin...   \n",
       "59996  positive     ahhh man suck alright plan seeing mga thursday   \n",
       "59997  negative  apologizing got email zillion time today swear...   \n",
       "59998  negative                           fuck work wan na see dog   \n",
       "59999   neutral       find new office long street st floor waiting   \n",
       "\n",
       "                                           expanded_text  \\\n",
       "0      still walking wish knew wrong throat dry leg numb   \n",
       "1      saw cutest gremlin gizmo ferret ever want bad ...   \n",
       "2                                  love ur backround pic   \n",
       "3                       pizza yesterday left feeling ill   \n",
       "4      watched ten episode oh want nine doctor foreve...   \n",
       "...                                                  ...   \n",
       "59995  mark name hat wondering sun gone oh well movin...   \n",
       "59996     ahhh man suck alright plan seeing mga thursday   \n",
       "59997  apologizing got email zillion time today swear...   \n",
       "59998                           fuck work wan na see dog   \n",
       "59999       find new office long street st floor waiting   \n",
       "\n",
       "                                  text_without_stopwords  \n",
       "0      still walking wish knew wrong throat dry leg numb  \n",
       "1      saw cutest gremlin gizmo ferret ever want bad ...  \n",
       "2                                  love ur backround pic  \n",
       "3                       pizza yesterday left feeling ill  \n",
       "4      watched ten episode oh want nine doctor foreve...  \n",
       "...                                                  ...  \n",
       "59995  mark name hat wondering sun gone oh well movin...  \n",
       "59996     ahhh man suck alright plan seeing mga thursday  \n",
       "59997  apologizing got email zillion time today swear...  \n",
       "59998                           fuck work wan na see dog  \n",
       "59999       find new office long street st floor waiting  \n",
       "\n",
       "[60000 rows x 4 columns]"
      ]
     },
     "execution_count": 23,
     "metadata": {},
     "output_type": "execute_result"
    }
   ],
   "source": [
    "balanced_dataset"
   ]
  },
  {
   "cell_type": "markdown",
   "id": "f716fefb",
   "metadata": {
    "id": "f716fefb"
   },
   "source": [
    "# create a text file where each line contains a cleaned tweet"
   ]
  },
  {
   "cell_type": "code",
   "execution_count": 24,
   "id": "212135ed",
   "metadata": {
    "id": "212135ed"
   },
   "outputs": [
    {
     "name": "stdout",
     "output_type": "stream",
     "text": [
      "File has been written with cleaned tweets.\n"
     ]
    }
   ],
   "source": [
    "# Specify the filename\n",
    "filename = 'cleaned_tweets.txt'\n",
    "\n",
    "# Open the file in write mode\n",
    "with open(filename, 'w', encoding='utf-8') as file:\n",
    "    # Iterate over each tweet in the 'text_without_stopwords' column\n",
    "    for tweet in balanced_dataset['text_without_stopwords']:\n",
    "        # Write each tweet on a new line\n",
    "        file.write(tweet + '\\n')\n",
    "\n",
    "print(\"File has been written with cleaned tweets.\")\n"
   ]
  },
  {
   "cell_type": "markdown",
   "id": "5c2fa9a0",
   "metadata": {
    "id": "5c2fa9a0"
   },
   "source": [
    "# Adding cleaned_tweets column to the dataframe balanced_dataset"
   ]
  },
  {
   "cell_type": "code",
   "execution_count": 25,
   "id": "34516c11",
   "metadata": {
    "id": "34516c11"
   },
   "outputs": [],
   "source": [
    "filename = 'cleaned_tweets.txt'\n",
    "\n",
    "# Read the file and store lines in a list\n",
    "with open(filename, 'r', encoding='utf-8') as file:\n",
    "    cleaned_tweets = [line.strip() for line in file]\n"
   ]
  },
  {
   "cell_type": "code",
   "execution_count": 26,
   "id": "f7737c5e",
   "metadata": {
    "id": "f7737c5e"
   },
   "outputs": [
    {
     "name": "stdout",
     "output_type": "stream",
     "text": [
      "Cleaned tweets have been added to the DataFrame.\n"
     ]
    }
   ],
   "source": [
    "# Check if the number of lines matches the number of DataFrame rows\n",
    "if len(cleaned_tweets) == len(balanced_dataset):\n",
    "    balanced_dataset['cleaned_tweets'] = cleaned_tweets\n",
    "    print(\"Cleaned tweets have been added to the DataFrame.\")\n",
    "else:\n",
    "    print(\"Mismatch in row counts between the DataFrame and the text file. Cannot proceed.\")\n"
   ]
  },
  {
   "cell_type": "code",
   "execution_count": 27,
   "id": "64962a18",
   "metadata": {
    "id": "64962a18"
   },
   "outputs": [
    {
     "name": "stdout",
     "output_type": "stream",
     "text": [
      "                                      cleaned_tweets\n",
      "0  still walking wish knew wrong throat dry leg numb\n",
      "1  saw cutest gremlin gizmo ferret ever want bad ...\n",
      "2                              love ur backround pic\n",
      "3                   pizza yesterday left feeling ill\n",
      "4  watched ten episode oh want nine doctor foreve...\n"
     ]
    }
   ],
   "source": [
    "# Display the first few rows to confirm the new column is added\n",
    "print(balanced_dataset[['cleaned_tweets']].head())\n"
   ]
  },
  {
   "cell_type": "code",
   "execution_count": 28,
   "id": "a8abaed6",
   "metadata": {
    "id": "a8abaed6"
   },
   "outputs": [
    {
     "data": {
      "text/html": [
       "<div>\n",
       "<style scoped>\n",
       "    .dataframe tbody tr th:only-of-type {\n",
       "        vertical-align: middle;\n",
       "    }\n",
       "\n",
       "    .dataframe tbody tr th {\n",
       "        vertical-align: top;\n",
       "    }\n",
       "\n",
       "    .dataframe thead th {\n",
       "        text-align: right;\n",
       "    }\n",
       "</style>\n",
       "<table border=\"1\" class=\"dataframe\">\n",
       "  <thead>\n",
       "    <tr style=\"text-align: right;\">\n",
       "      <th></th>\n",
       "      <th>label</th>\n",
       "      <th>cleaned_text</th>\n",
       "      <th>expanded_text</th>\n",
       "      <th>text_without_stopwords</th>\n",
       "      <th>cleaned_tweets</th>\n",
       "    </tr>\n",
       "  </thead>\n",
       "  <tbody>\n",
       "    <tr>\n",
       "      <th>0</th>\n",
       "      <td>negative</td>\n",
       "      <td>still walking wish knew wrong throat dry leg numb</td>\n",
       "      <td>still walking wish knew wrong throat dry leg numb</td>\n",
       "      <td>still walking wish knew wrong throat dry leg numb</td>\n",
       "      <td>still walking wish knew wrong throat dry leg numb</td>\n",
       "    </tr>\n",
       "    <tr>\n",
       "      <th>1</th>\n",
       "      <td>positive</td>\n",
       "      <td>saw cutest gremlin gizmo ferret ever want bad ...</td>\n",
       "      <td>saw cutest gremlin gizmo ferret ever want bad ...</td>\n",
       "      <td>saw cutest gremlin gizmo ferret ever want bad ...</td>\n",
       "      <td>saw cutest gremlin gizmo ferret ever want bad ...</td>\n",
       "    </tr>\n",
       "    <tr>\n",
       "      <th>2</th>\n",
       "      <td>positive</td>\n",
       "      <td>love ur backround pic</td>\n",
       "      <td>love ur backround pic</td>\n",
       "      <td>love ur backround pic</td>\n",
       "      <td>love ur backround pic</td>\n",
       "    </tr>\n",
       "    <tr>\n",
       "      <th>3</th>\n",
       "      <td>negative</td>\n",
       "      <td>pizza yesterday left feeling ill</td>\n",
       "      <td>pizza yesterday left feeling ill</td>\n",
       "      <td>pizza yesterday left feeling ill</td>\n",
       "      <td>pizza yesterday left feeling ill</td>\n",
       "    </tr>\n",
       "    <tr>\n",
       "      <th>4</th>\n",
       "      <td>negative</td>\n",
       "      <td>watched ten episode oh want nine doctor foreve...</td>\n",
       "      <td>watched ten episode oh want nine doctor foreve...</td>\n",
       "      <td>watched ten episode oh want nine doctor foreve...</td>\n",
       "      <td>watched ten episode oh want nine doctor foreve...</td>\n",
       "    </tr>\n",
       "    <tr>\n",
       "      <th>...</th>\n",
       "      <td>...</td>\n",
       "      <td>...</td>\n",
       "      <td>...</td>\n",
       "      <td>...</td>\n",
       "      <td>...</td>\n",
       "    </tr>\n",
       "    <tr>\n",
       "      <th>59995</th>\n",
       "      <td>neutral</td>\n",
       "      <td>mark name hat wondering sun gone oh well movin...</td>\n",
       "      <td>mark name hat wondering sun gone oh well movin...</td>\n",
       "      <td>mark name hat wondering sun gone oh well movin...</td>\n",
       "      <td>mark name hat wondering sun gone oh well movin...</td>\n",
       "    </tr>\n",
       "    <tr>\n",
       "      <th>59996</th>\n",
       "      <td>positive</td>\n",
       "      <td>ahhh man suck alright plan seeing mga thursday</td>\n",
       "      <td>ahhh man suck alright plan seeing mga thursday</td>\n",
       "      <td>ahhh man suck alright plan seeing mga thursday</td>\n",
       "      <td>ahhh man suck alright plan seeing mga thursday</td>\n",
       "    </tr>\n",
       "    <tr>\n",
       "      <th>59997</th>\n",
       "      <td>negative</td>\n",
       "      <td>apologizing got email zillion time today swear...</td>\n",
       "      <td>apologizing got email zillion time today swear...</td>\n",
       "      <td>apologizing got email zillion time today swear...</td>\n",
       "      <td>apologizing got email zillion time today swear...</td>\n",
       "    </tr>\n",
       "    <tr>\n",
       "      <th>59998</th>\n",
       "      <td>negative</td>\n",
       "      <td>fuck work wan na see dog</td>\n",
       "      <td>fuck work wan na see dog</td>\n",
       "      <td>fuck work wan na see dog</td>\n",
       "      <td>fuck work wan na see dog</td>\n",
       "    </tr>\n",
       "    <tr>\n",
       "      <th>59999</th>\n",
       "      <td>neutral</td>\n",
       "      <td>find new office long street st floor waiting</td>\n",
       "      <td>find new office long street st floor waiting</td>\n",
       "      <td>find new office long street st floor waiting</td>\n",
       "      <td>find new office long street st floor waiting</td>\n",
       "    </tr>\n",
       "  </tbody>\n",
       "</table>\n",
       "<p>60000 rows × 5 columns</p>\n",
       "</div>"
      ],
      "text/plain": [
       "          label                                       cleaned_text  \\\n",
       "0      negative  still walking wish knew wrong throat dry leg numb   \n",
       "1      positive  saw cutest gremlin gizmo ferret ever want bad ...   \n",
       "2      positive                              love ur backround pic   \n",
       "3      negative                   pizza yesterday left feeling ill   \n",
       "4      negative  watched ten episode oh want nine doctor foreve...   \n",
       "...         ...                                                ...   \n",
       "59995   neutral  mark name hat wondering sun gone oh well movin...   \n",
       "59996  positive     ahhh man suck alright plan seeing mga thursday   \n",
       "59997  negative  apologizing got email zillion time today swear...   \n",
       "59998  negative                           fuck work wan na see dog   \n",
       "59999   neutral       find new office long street st floor waiting   \n",
       "\n",
       "                                           expanded_text  \\\n",
       "0      still walking wish knew wrong throat dry leg numb   \n",
       "1      saw cutest gremlin gizmo ferret ever want bad ...   \n",
       "2                                  love ur backround pic   \n",
       "3                       pizza yesterday left feeling ill   \n",
       "4      watched ten episode oh want nine doctor foreve...   \n",
       "...                                                  ...   \n",
       "59995  mark name hat wondering sun gone oh well movin...   \n",
       "59996     ahhh man suck alright plan seeing mga thursday   \n",
       "59997  apologizing got email zillion time today swear...   \n",
       "59998                           fuck work wan na see dog   \n",
       "59999       find new office long street st floor waiting   \n",
       "\n",
       "                                  text_without_stopwords  \\\n",
       "0      still walking wish knew wrong throat dry leg numb   \n",
       "1      saw cutest gremlin gizmo ferret ever want bad ...   \n",
       "2                                  love ur backround pic   \n",
       "3                       pizza yesterday left feeling ill   \n",
       "4      watched ten episode oh want nine doctor foreve...   \n",
       "...                                                  ...   \n",
       "59995  mark name hat wondering sun gone oh well movin...   \n",
       "59996     ahhh man suck alright plan seeing mga thursday   \n",
       "59997  apologizing got email zillion time today swear...   \n",
       "59998                           fuck work wan na see dog   \n",
       "59999       find new office long street st floor waiting   \n",
       "\n",
       "                                          cleaned_tweets  \n",
       "0      still walking wish knew wrong throat dry leg numb  \n",
       "1      saw cutest gremlin gizmo ferret ever want bad ...  \n",
       "2                                  love ur backround pic  \n",
       "3                       pizza yesterday left feeling ill  \n",
       "4      watched ten episode oh want nine doctor foreve...  \n",
       "...                                                  ...  \n",
       "59995  mark name hat wondering sun gone oh well movin...  \n",
       "59996     ahhh man suck alright plan seeing mga thursday  \n",
       "59997  apologizing got email zillion time today swear...  \n",
       "59998                           fuck work wan na see dog  \n",
       "59999       find new office long street st floor waiting  \n",
       "\n",
       "[60000 rows x 5 columns]"
      ]
     },
     "execution_count": 28,
     "metadata": {},
     "output_type": "execute_result"
    }
   ],
   "source": [
    "balanced_dataset"
   ]
  },
  {
   "cell_type": "code",
   "execution_count": 29,
   "id": "17cbaf56",
   "metadata": {
    "id": "17cbaf56"
   },
   "outputs": [],
   "source": [
    "balanced_dataset.drop(['cleaned_text', 'expanded_text', 'text_without_stopwords'], axis=1, inplace=True)\n"
   ]
  },
  {
   "cell_type": "code",
   "execution_count": 30,
   "id": "c10beaaa",
   "metadata": {
    "id": "c10beaaa"
   },
   "outputs": [
    {
     "data": {
      "text/html": [
       "<div>\n",
       "<style scoped>\n",
       "    .dataframe tbody tr th:only-of-type {\n",
       "        vertical-align: middle;\n",
       "    }\n",
       "\n",
       "    .dataframe tbody tr th {\n",
       "        vertical-align: top;\n",
       "    }\n",
       "\n",
       "    .dataframe thead th {\n",
       "        text-align: right;\n",
       "    }\n",
       "</style>\n",
       "<table border=\"1\" class=\"dataframe\">\n",
       "  <thead>\n",
       "    <tr style=\"text-align: right;\">\n",
       "      <th></th>\n",
       "      <th>label</th>\n",
       "      <th>cleaned_tweets</th>\n",
       "    </tr>\n",
       "  </thead>\n",
       "  <tbody>\n",
       "    <tr>\n",
       "      <th>0</th>\n",
       "      <td>negative</td>\n",
       "      <td>still walking wish knew wrong throat dry leg numb</td>\n",
       "    </tr>\n",
       "    <tr>\n",
       "      <th>1</th>\n",
       "      <td>positive</td>\n",
       "      <td>saw cutest gremlin gizmo ferret ever want bad ...</td>\n",
       "    </tr>\n",
       "    <tr>\n",
       "      <th>2</th>\n",
       "      <td>positive</td>\n",
       "      <td>love ur backround pic</td>\n",
       "    </tr>\n",
       "    <tr>\n",
       "      <th>3</th>\n",
       "      <td>negative</td>\n",
       "      <td>pizza yesterday left feeling ill</td>\n",
       "    </tr>\n",
       "    <tr>\n",
       "      <th>4</th>\n",
       "      <td>negative</td>\n",
       "      <td>watched ten episode oh want nine doctor foreve...</td>\n",
       "    </tr>\n",
       "    <tr>\n",
       "      <th>...</th>\n",
       "      <td>...</td>\n",
       "      <td>...</td>\n",
       "    </tr>\n",
       "    <tr>\n",
       "      <th>59995</th>\n",
       "      <td>neutral</td>\n",
       "      <td>mark name hat wondering sun gone oh well movin...</td>\n",
       "    </tr>\n",
       "    <tr>\n",
       "      <th>59996</th>\n",
       "      <td>positive</td>\n",
       "      <td>ahhh man suck alright plan seeing mga thursday</td>\n",
       "    </tr>\n",
       "    <tr>\n",
       "      <th>59997</th>\n",
       "      <td>negative</td>\n",
       "      <td>apologizing got email zillion time today swear...</td>\n",
       "    </tr>\n",
       "    <tr>\n",
       "      <th>59998</th>\n",
       "      <td>negative</td>\n",
       "      <td>fuck work wan na see dog</td>\n",
       "    </tr>\n",
       "    <tr>\n",
       "      <th>59999</th>\n",
       "      <td>neutral</td>\n",
       "      <td>find new office long street st floor waiting</td>\n",
       "    </tr>\n",
       "  </tbody>\n",
       "</table>\n",
       "<p>60000 rows × 2 columns</p>\n",
       "</div>"
      ],
      "text/plain": [
       "          label                                     cleaned_tweets\n",
       "0      negative  still walking wish knew wrong throat dry leg numb\n",
       "1      positive  saw cutest gremlin gizmo ferret ever want bad ...\n",
       "2      positive                              love ur backround pic\n",
       "3      negative                   pizza yesterday left feeling ill\n",
       "4      negative  watched ten episode oh want nine doctor foreve...\n",
       "...         ...                                                ...\n",
       "59995   neutral  mark name hat wondering sun gone oh well movin...\n",
       "59996  positive     ahhh man suck alright plan seeing mga thursday\n",
       "59997  negative  apologizing got email zillion time today swear...\n",
       "59998  negative                           fuck work wan na see dog\n",
       "59999   neutral       find new office long street st floor waiting\n",
       "\n",
       "[60000 rows x 2 columns]"
      ]
     },
     "execution_count": 30,
     "metadata": {},
     "output_type": "execute_result"
    }
   ],
   "source": [
    "balanced_dataset"
   ]
  },
  {
   "cell_type": "code",
   "execution_count": 31,
   "id": "e549bc90",
   "metadata": {
    "id": "e549bc90"
   },
   "outputs": [
    {
     "name": "stdout",
     "output_type": "stream",
     "text": [
      "Cross-validation scores: [0.8059375  0.8096875  0.80854167 0.80083333 0.8053125 ]\n",
      "Average cross-validation score: 0.8060625\n",
      "Final test score: 0.8113333333333334\n"
     ]
    }
   ],
   "source": [
    "X = balanced_dataset['cleaned_tweets']  # Features (input)\n",
    "y = balanced_dataset['label']           # Labels (output)\n",
    "\n",
    "# Split the data into training and test sets\n",
    "X_train, X_test, y_train, y_test = train_test_split(X, y, test_size=0.20, random_state=42)\n",
    "\n",
    "# Vectorize the training data\n",
    "tfidf_vectorizer = TfidfVectorizer(max_features=5000)\n",
    "X_train_tfidf = tfidf_vectorizer.fit_transform(X_train)\n",
    "\n",
    "# Train and validate models using K-fold cross-validation on the training data\n",
    "model = LogisticRegression()\n",
    "scores = cross_val_score(model, X_train_tfidf, y_train, cv=5, scoring='accuracy')\n",
    "print(\"Cross-validation scores:\", scores)\n",
    "print(\"Average cross-validation score:\", scores.mean())\n",
    "\n",
    "# train the final model on all training data and evaluate on the test set\n",
    "model.fit(X_train_tfidf, y_train)\n",
    "X_test_tfidf = tfidf_vectorizer.transform(X_test)\n",
    "final_score = model.score(X_test_tfidf, y_test)\n",
    "print(\"Final test score:\", final_score)\n",
    "\n",
    "\n",
    "\n"
   ]
  },
  {
   "cell_type": "code",
   "execution_count": 32,
   "id": "4bbdc434",
   "metadata": {
    "id": "4bbdc434"
   },
   "outputs": [
    {
     "name": "stdout",
     "output_type": "stream",
     "text": [
      "Logistic Regression Cross-validation scores: [0.80708333 0.81010417 0.80854167 0.80072917 0.805625  ]\n",
      "Average cross-validation score: 0.8064166666666667\n",
      "Final test score: 0.8113333333333334\n"
     ]
    }
   ],
   "source": [
    "# Using 'saga' solver and increasing max_iter\n",
    "model = LogisticRegression(solver='saga', max_iter=1000)\n",
    "scores = cross_val_score(model, X_train_tfidf, y_train, cv=5, scoring='accuracy')\n",
    "print(\"Logistic Regression Cross-validation scores:\", scores)\n",
    "print(\"Average cross-validation score:\", scores.mean())\n",
    "\n",
    "# Train the final model and evaluate on the test set\n",
    "model.fit(X_train_tfidf, y_train)\n",
    "final_score = model.score(X_test_tfidf, y_test)\n",
    "print(\"Final test score:\", final_score)\n"
   ]
  },
  {
   "cell_type": "code",
   "execution_count": 33,
   "id": "869b4bb7",
   "metadata": {
    "id": "869b4bb7"
   },
   "outputs": [
    {
     "name": "stdout",
     "output_type": "stream",
     "text": [
      "Naive Bayes Cross-validation scores: [0.72677083 0.73208333 0.73583333 0.72010417 0.7253125 ]\n",
      "Average score: 0.7280208333333335\n"
     ]
    }
   ],
   "source": [
    "# Create a Naive Bayes classifier\n",
    "nb_classifier = MultinomialNB()\n",
    "\n",
    "# Perform cross-validation\n",
    "nb_scores = cross_val_score(nb_classifier, X_train_tfidf, y_train, cv=5, scoring='accuracy')\n",
    "print(\"Naive Bayes Cross-validation scores:\", nb_scores)\n",
    "print(\"Average score:\", nb_scores.mean())\n"
   ]
  },
  {
   "cell_type": "code",
   "execution_count": 34,
   "id": "305b5fd1",
   "metadata": {
    "id": "305b5fd1"
   },
   "outputs": [
    {
     "name": "stdout",
     "output_type": "stream",
     "text": [
      "SVM Cross-validation scores: [0.82447917 0.82604167 0.82614583 0.81833333 0.82010417]\n",
      "Average score: 0.8230208333333333\n"
     ]
    }
   ],
   "source": [
    "# Create an SVM classifier\n",
    "svm_classifier = SVC(kernel='linear')\n",
    "\n",
    "# Perform cross-validation\n",
    "svm_scores = cross_val_score(svm_classifier, X_train_tfidf, y_train, cv=5, scoring='accuracy')\n",
    "print(\"SVM Cross-validation scores:\", svm_scores)\n",
    "print(\"Average score:\", svm_scores.mean())\n"
   ]
  },
  {
   "cell_type": "code",
   "execution_count": 35,
   "id": "120ef834",
   "metadata": {
    "id": "120ef834"
   },
   "outputs": [
    {
     "name": "stdout",
     "output_type": "stream",
     "text": [
      "Decision Tree Cross-validation scores: [0.7659375  0.77       0.77145833 0.76635417 0.7690625 ]\n",
      "Average score: 0.7685625\n"
     ]
    }
   ],
   "source": [
    "# Create a Decision Tree classifier\n",
    "tree_classifier = DecisionTreeClassifier()\n",
    "\n",
    "# Perform cross-validation\n",
    "tree_scores = cross_val_score(tree_classifier, X_train_tfidf, y_train, cv=5, scoring='accuracy')\n",
    "print(\"Decision Tree Cross-validation scores:\", tree_scores)\n",
    "print(\"Average score:\", tree_scores.mean())\n"
   ]
  },
  {
   "cell_type": "markdown",
   "id": "5f9daf3d",
   "metadata": {
    "id": "5f9daf3d"
   },
   "source": [
    "# Train and Evaluate Each Classifier"
   ]
  },
  {
   "cell_type": "code",
   "execution_count": 36,
   "id": "f598a866",
   "metadata": {
    "id": "f598a866"
   },
   "outputs": [],
   "source": [
    "# Vectorizing the dataset\n",
    "tfidf_vectorizer = TfidfVectorizer(max_features=5000)\n",
    "X_tfidf = tfidf_vectorizer.fit_transform(balanced_dataset['cleaned_tweets'])\n",
    "y = balanced_dataset['label']\n",
    "\n",
    "# Split the dataset into training and test sets\n",
    "X_train, X_test, y_train, y_test = train_test_split(X_tfidf, y, test_size=0.2, random_state=42)\n"
   ]
  },
  {
   "cell_type": "code",
   "execution_count": 37,
   "id": "c52d6766",
   "metadata": {
    "id": "c52d6766"
   },
   "outputs": [],
   "source": [
    "def evaluate_model(model, name):\n",
    "    model.fit(X_train, y_train)\n",
    "    predictions = model.predict(X_test)\n",
    "    accuracy = accuracy_score(y_test, predictions)\n",
    "    print(f\"{name} classifier accuracy percent:\", accuracy * 100)\n",
    "    print(\"\\n\", name, \"\\n\")\n",
    "    print(classification_report(y_test, predictions, target_names=['positive', 'negative', 'neutral']))\n",
    "    print(\"F1-score:\", f1_score(y_test, predictions, average='weighted') * 100, \"%\")\n",
    "    print(\"Recall Score:\", recall_score(y_test, predictions, average='weighted') * 100, \"%\")\n",
    "    print(\"Precision Score:\", precision_score(y_test, predictions, average='weighted') * 100, \"%\")\n"
   ]
  },
  {
   "cell_type": "markdown",
   "id": "b49ef536",
   "metadata": {
    "id": "b49ef536"
   },
   "source": [
    "# Initialize and Evaluate Classifiers"
   ]
  },
  {
   "cell_type": "code",
   "execution_count": 38,
   "id": "90423525",
   "metadata": {
    "id": "90423525"
   },
   "outputs": [
    {
     "name": "stdout",
     "output_type": "stream",
     "text": [
      "Logistic Regression classifier accuracy percent: 81.05\n",
      "\n",
      " Logistic Regression \n",
      "\n",
      "              precision    recall  f1-score   support\n",
      "\n",
      "    positive       0.82      0.73      0.77      3958\n",
      "    negative       0.79      0.89      0.83      4022\n",
      "     neutral       0.83      0.81      0.82      4020\n",
      "\n",
      "    accuracy                           0.81     12000\n",
      "   macro avg       0.81      0.81      0.81     12000\n",
      "weighted avg       0.81      0.81      0.81     12000\n",
      "\n",
      "F1-score: 80.93684029506274 %\n",
      "Recall Score: 81.05 %\n",
      "Precision Score: 81.17724475163772 %\n"
     ]
    }
   ],
   "source": [
    "# Logistic Regression\n",
    "logistic_model = LogisticRegression(solver='saga', max_iter=1000)\n",
    "evaluate_model(logistic_model, \"Logistic Regression\")"
   ]
  },
  {
   "cell_type": "code",
   "execution_count": 39,
   "id": "b6750fac",
   "metadata": {
    "id": "b6750fac"
   },
   "outputs": [
    {
     "name": "stdout",
     "output_type": "stream",
     "text": [
      "Naive Bayes classifier accuracy percent: 73.35833333333333\n",
      "\n",
      " Naive Bayes \n",
      "\n",
      "              precision    recall  f1-score   support\n",
      "\n",
      "    positive       0.71      0.72      0.71      3958\n",
      "    negative       0.74      0.72      0.73      4022\n",
      "     neutral       0.75      0.75      0.75      4020\n",
      "\n",
      "    accuracy                           0.73     12000\n",
      "   macro avg       0.73      0.73      0.73     12000\n",
      "weighted avg       0.73      0.73      0.73     12000\n",
      "\n",
      "F1-score: 73.36413964157217 %\n",
      "Recall Score: 73.35833333333333 %\n",
      "Precision Score: 73.38302578231496 %\n"
     ]
    }
   ],
   "source": [
    "# Naive Bayes\n",
    "naive_bayes_model = MultinomialNB()\n",
    "evaluate_model(naive_bayes_model, \"Naive Bayes\")\n"
   ]
  },
  {
   "cell_type": "code",
   "execution_count": 40,
   "id": "e17ec4b9",
   "metadata": {
    "id": "e17ec4b9"
   },
   "outputs": [
    {
     "name": "stdout",
     "output_type": "stream",
     "text": [
      "SVM classifier accuracy percent: 82.875\n",
      "\n",
      " SVM \n",
      "\n",
      "              precision    recall  f1-score   support\n",
      "\n",
      "    positive       0.82      0.76      0.79      3958\n",
      "    negative       0.85      0.88      0.86      4022\n",
      "     neutral       0.82      0.84      0.83      4020\n",
      "\n",
      "    accuracy                           0.83     12000\n",
      "   macro avg       0.83      0.83      0.83     12000\n",
      "weighted avg       0.83      0.83      0.83     12000\n",
      "\n",
      "F1-score: 82.81010044083284 %\n",
      "Recall Score: 82.875 %\n",
      "Precision Score: 82.83865018070846 %\n"
     ]
    }
   ],
   "source": [
    "# SVM\n",
    "svm_model = SVC(kernel='linear')\n",
    "evaluate_model(svm_model, \"SVM\")\n"
   ]
  },
  {
   "cell_type": "code",
   "execution_count": 41,
   "id": "43ceaeee",
   "metadata": {
    "id": "43ceaeee"
   },
   "outputs": [
    {
     "name": "stdout",
     "output_type": "stream",
     "text": [
      "Decision Tree classifier accuracy percent: 77.35833333333333\n",
      "\n",
      " Decision Tree \n",
      "\n",
      "              precision    recall  f1-score   support\n",
      "\n",
      "    positive       0.72      0.71      0.72      3958\n",
      "    negative       0.85      0.83      0.84      4022\n",
      "     neutral       0.75      0.77      0.76      4020\n",
      "\n",
      "    accuracy                           0.77     12000\n",
      "   macro avg       0.77      0.77      0.77     12000\n",
      "weighted avg       0.77      0.77      0.77     12000\n",
      "\n",
      "F1-score: 77.37866377342064 %\n",
      "Recall Score: 77.35833333333333 %\n",
      "Precision Score: 77.42207721107474 %\n"
     ]
    }
   ],
   "source": [
    "# Decision Tree\n",
    "decision_tree_model = DecisionTreeClassifier()\n",
    "evaluate_model(decision_tree_model, \"Decision Tree\")\n"
   ]
  },
  {
   "cell_type": "markdown",
   "id": "c1f10794",
   "metadata": {},
   "source": [
    "# Soft Voting"
   ]
  },
  {
   "cell_type": "code",
   "execution_count": 42,
   "id": "abab14ac",
   "metadata": {},
   "outputs": [
    {
     "name": "stdout",
     "output_type": "stream",
     "text": [
      "Voting Classifier Accuracy: 0.8268333333333333\n",
      "Classification Report:\n",
      "               precision    recall  f1-score   support\n",
      "\n",
      "    negative       0.80      0.77      0.79      3958\n",
      "     neutral       0.87      0.86      0.87      4022\n",
      "    positive       0.80      0.84      0.82      4020\n",
      "\n",
      "    accuracy                           0.83     12000\n",
      "   macro avg       0.83      0.83      0.83     12000\n",
      "weighted avg       0.83      0.83      0.83     12000\n",
      "\n",
      "F1-score: 82.66446859669281 %\n",
      "Recall Score: 82.68333333333334 %\n",
      "Precision Score: 82.70378001222707 %\n"
     ]
    }
   ],
   "source": [
    "tfidf_vectorizer = TfidfVectorizer(max_features=5000)\n",
    "X = tfidf_vectorizer.fit_transform(balanced_dataset['cleaned_tweets'])\n",
    "y = balanced_dataset['label']\n",
    "\n",
    "# Split the dataset into training and test sets\n",
    "X_train, X_test, y_train, y_test = train_test_split(X, y, test_size=0.2, random_state=42)\n",
    "\n",
    "# Define individual classifiers\n",
    "logistic_model = LogisticRegression(solver='saga', max_iter=1000)  \n",
    "naive_bayes_model = MultinomialNB()\n",
    "svm_model = SVC(kernel='linear', probability=True)  \n",
    "decision_tree_model = DecisionTreeClassifier()\n",
    "\n",
    "# Create a voting classifier with 'soft' voting\n",
    "voting_clf = VotingClassifier(\n",
    "    estimators=[\n",
    "        ('lr', logistic_model),             # 'lr' stands for Logistic Regression,         \n",
    "        ('nb', naive_bayes_model),          # 'nb' stands for Naive Bayes\n",
    "        ('svm', svm_model),                 # 'svm' stands for Support Vector Machine\n",
    "        ('dt', decision_tree_model)         # 'dt' stands for Decision Tree\n",
    "    ],\n",
    "    voting='soft'\n",
    ")\n",
    "\n",
    "# Train the voting classifier\n",
    "voting_clf.fit(X_train, y_train)\n",
    "\n",
    "# Predict the test set results\n",
    "y_pred = voting_clf.predict(X_test)\n",
    "\n",
    "# Print the accuracy and classification report\n",
    "print(\"Voting Classifier Accuracy:\", accuracy_score(y_test, y_pred))\n",
    "print(\"Classification Report:\\n\", classification_report(y_test, y_pred))\n",
    "print(\"F1-score:\", f1_score(y_test, y_pred, average='weighted') * 100, \"%\")\n",
    "print(\"Recall Score:\", recall_score(y_test, y_pred, average='weighted') * 100, \"%\")\n",
    "print(\"Precision Score:\", precision_score(y_test, y_pred, average='weighted') * 100, \"%\")\n"
   ]
  },
  {
   "cell_type": "markdown",
   "id": "e6208f41",
   "metadata": {},
   "source": [
    "# Hard Voting"
   ]
  },
  {
   "cell_type": "code",
   "execution_count": 43,
   "id": "801ea184",
   "metadata": {},
   "outputs": [
    {
     "name": "stdout",
     "output_type": "stream",
     "text": [
      "Voting Classifier Accuracy: 0.82375\n",
      "Classification Report:\n",
      "               precision    recall  f1-score   support\n",
      "\n",
      "    negative       0.80      0.79      0.80      3958\n",
      "     neutral       0.83      0.87      0.85      4022\n",
      "    positive       0.83      0.81      0.82      4020\n",
      "\n",
      "    accuracy                           0.82     12000\n",
      "   macro avg       0.82      0.82      0.82     12000\n",
      "weighted avg       0.82      0.82      0.82     12000\n",
      "\n",
      "F1-score: 82.33931383436254 %\n",
      "Recall Score: 82.375 %\n",
      "Precision Score: 82.35466665114615 %\n"
     ]
    }
   ],
   "source": [
    "# Define individual classifiers\n",
    "logistic_model = LogisticRegression(solver='saga', max_iter=1000)  \n",
    "naive_bayes_model = MultinomialNB()\n",
    "svm_model = SVC(kernel='linear')  \n",
    "decision_tree_model = DecisionTreeClassifier()\n",
    "\n",
    "# Create a voting classifier with 'hard' voting\n",
    "voting_clf = VotingClassifier(\n",
    "    estimators=[\n",
    "        ('lr', logistic_model),             # 'lr' stands for Logistic Regression,         \n",
    "        ('nb', naive_bayes_model),          # 'nb' stands for Naive Bayes\n",
    "        ('svm', svm_model),                 # 'svm' stands for Support Vector Machine\n",
    "        ('dt', decision_tree_model)         # 'dt' stands for Decision Tree\n",
    "    ],\n",
    "    voting='hard'\n",
    ")\n",
    "\n",
    "# Train the voting classifier\n",
    "voting_clf.fit(X_train, y_train)\n",
    "\n",
    "# Predict the test set results\n",
    "y_pred = voting_clf.predict(X_test)\n",
    "\n",
    "# Print the accuracy and classification report\n",
    "print(\"Voting Classifier Accuracy:\", accuracy_score(y_test, y_pred))\n",
    "print(\"Classification Report:\\n\", classification_report(y_test, y_pred))\n",
    "print(\"F1-score:\", f1_score(y_test, y_pred, average='weighted') * 100, \"%\")\n",
    "print(\"Recall Score:\", recall_score(y_test, y_pred, average='weighted') * 100, \"%\")\n",
    "print(\"Precision Score:\", precision_score(y_test, y_pred, average='weighted') * 100, \"%\")"
   ]
  },
  {
   "cell_type": "markdown",
   "id": "7d549861",
   "metadata": {},
   "source": [
    "# Comparison of Classifier Accuracies Plot"
   ]
  },
  {
   "cell_type": "code",
   "execution_count": 44,
   "id": "db08d40d",
   "metadata": {
    "id": "db08d40d"
   },
   "outputs": [
    {
     "data": {
      "image/png": "[encoded data removed]",
      "text/plain": [
       "<Figure size 1000x500 with 1 Axes>"
      ]
     },
     "metadata": {},
     "output_type": "display_data"
    }
   ],
   "source": [
    "# Hypothetical example data (including duplicates for demonstration)\n",
    "accuracy = [\n",
    "    (73.35833333333333, 'Naive Bayes'),\n",
    "    (77.575, 'Decision Tree'),\n",
    "    (82.50833333333333, 'Voting Classifier'),\n",
    "    (82.875, 'SVM'),  # Duplicate entry for demonstration\n",
    "    \n",
    "]\n",
    "\n",
    "# Remove duplicates by converting the list of tuples into a set of tuples, then back to a list\n",
    "unique_accuracy = [list(t) for t in set(tuple(element) for element in accuracy)]\n",
    "\n",
    "# Sorting the list by the accuracy score\n",
    "unique_accuracy.sort(key=lambda x: x[0], reverse=True)\n",
    "\n",
    "# Unzip into separate lists\n",
    "scores, labels = zip(*unique_accuracy)\n",
    "\n",
    "# Plotting\n",
    "plt.figure(figsize=(10, 5))\n",
    "bars = plt.bar(labels, scores, color='blue')\n",
    "plt.xlabel('Classifier')\n",
    "plt.ylabel('Accuracy (%)')\n",
    "plt.title('Comparison of Classifier Accuracies')\n",
    "plt.xticks(rotation=45)\n",
    "\n",
    "# Adding text annotations on the bars\n",
    "for bar in bars:\n",
    "    yval = bar.get_height()\n",
    "    plt.text(bar.get_x() + bar.get_width()/2, yval, f\"{round(yval, 1)}%\", va='bottom')  # va: vertical alignment\n",
    "\n",
    "plt.show()\n"
   ]
  },
  {
   "cell_type": "code",
   "execution_count": 45,
   "id": "4468afbe",
   "metadata": {
    "id": "4468afbe"
   },
   "outputs": [
    {
     "data": {
      "text/plain": [
       "[(73.35833333333333, 'Naive Bayes'),\n",
       " (77.575, 'Decision Tree'),\n",
       " (82.50833333333333, 'Voting Classifier'),\n",
       " (82.875, 'SVM')]"
      ]
     },
     "execution_count": 45,
     "metadata": {},
     "output_type": "execute_result"
    }
   ],
   "source": [
    "accuracy"
   ]
  },
  {
   "cell_type": "code",
   "execution_count": 46,
   "id": "e6633df6",
   "metadata": {},
   "outputs": [
    {
     "data": {
      "image/png": "[encoded data removed]",
      "text/plain": [
       "<Figure size 1500x1000 with 4 Axes>"
      ]
     },
     "metadata": {},
     "output_type": "display_data"
    }
   ],
   "source": [
    "# Initialize dictionary to store metrics\n",
    "metrics = {\n",
    "    'Classifier': [],\n",
    "    'Accuracy': [],\n",
    "    'Precision': [],\n",
    "    'Recall': [],\n",
    "    'F1 Score': []\n",
    "}\n",
    "\n",
    "# List of classifiers\n",
    "classifiers = {\n",
    "    'Logistic Regression': logistic_model,\n",
    "    'Naive Bayes': naive_bayes_model,\n",
    "    'SVM': svm_model,\n",
    "    'Decision Tree': decision_tree_model,\n",
    "    'Voting Classifier': voting_clf\n",
    "}\n",
    "\n",
    "# Evaluate each classifier\n",
    "for name, clf in classifiers.items():\n",
    "    clf.fit(X_train, y_train)  # Train each classifier\n",
    "    y_pred = clf.predict(X_test)  # Make predictions\n",
    "    # Calculate metrics\n",
    "    accuracy = accuracy_score(y_test, y_pred)\n",
    "    precision = precision_score(y_test, y_pred, average='weighted')\n",
    "    recall = recall_score(y_test, y_pred, average='weighted')\n",
    "    f1 = f1_score(y_test, y_pred, average='weighted')\n",
    "    \n",
    "    # Store metrics\n",
    "    metrics['Classifier'].append(name)\n",
    "    metrics['Accuracy'].append(accuracy)\n",
    "    metrics['Precision'].append(precision)\n",
    "    metrics['Recall'].append(recall)\n",
    "    metrics['F1 Score'].append(f1)\n",
    "\n",
    "# Plotting the metrics\n",
    "fig, ax = plt.subplots(2, 2, figsize=(15, 10))\n",
    "fig.suptitle('Performance Metrics for Each Classifier')\n",
    "\n",
    "# Accuracy Plot\n",
    "ax[0, 0].bar(metrics['Classifier'], metrics['Accuracy'], color='b')\n",
    "ax[0, 0].set_title('Accuracy')\n",
    "ax[0, 0].set_ylabel('Score')\n",
    "ax[0, 0].set_ylim([0, 1])\n",
    "ax[0, 0].tick_params(labelrotation=45)\n",
    "\n",
    "# Precision Plot\n",
    "ax[0, 1].bar(metrics['Classifier'], metrics['Precision'], color='g')\n",
    "ax[0, 1].set_title('Precision')\n",
    "ax[0, 1].set_ylabel('Score')\n",
    "ax[0, 1].set_ylim([0, 1])\n",
    "ax[0, 1].tick_params(labelrotation=45)\n",
    "\n",
    "# Recall Plot\n",
    "ax[1, 0].bar(metrics['Classifier'], metrics['Recall'], color='r')\n",
    "ax[1, 0].set_title('Recall')\n",
    "ax[1, 0].set_ylabel('Score')\n",
    "ax[1, 0].set_ylim([0, 1])\n",
    "ax[1, 0].tick_params(labelrotation=45)\n",
    "\n",
    "# F1 Score Plot\n",
    "ax[1, 1].bar(metrics['Classifier'], metrics['F1 Score'], color='c')\n",
    "ax[1, 1].set_title('F1 Score')\n",
    "ax[1, 1].set_ylabel('Score')\n",
    "ax[1, 1].set_ylim([0, 1])\n",
    "ax[1, 1].tick_params(labelrotation=45)\n",
    "\n",
    "# Layout adjustment\n",
    "plt.tight_layout(rect=[0, 0.03, 1, 0.95])\n",
    "\n",
    "# Show the plot\n",
    "plt.show()\n"
   ]
  },
  {
   "cell_type": "code",
   "execution_count": 47,
   "id": "328e8238",
   "metadata": {},
   "outputs": [
    {
     "data": {
      "image/png": "[encoded data removed]",
      "text/plain": [
       "<Figure size 640x480 with 1 Axes>"
      ]
     },
     "metadata": {},
     "output_type": "display_data"
    }
   ],
   "source": [
    "# Prepare the data\n",
    "classifiers = {\n",
    "    'Logistic Regression': logistic_model,\n",
    "    'Naive Bayes': naive_bayes_model,\n",
    "    'SVM': svm_model,\n",
    "    'Decision Tree': decision_tree_model,\n",
    "    'Voting Classifier': voting_clf\n",
    "}\n",
    "\n",
    "# Metrics storage\n",
    "metrics = {\n",
    "    'Accuracy': [],\n",
    "    'Precision': [],\n",
    "    'Recall': [],\n",
    "    'F1 Score': []\n",
    "}\n",
    "\n",
    "# Evaluate each classifier\n",
    "for name, clf in classifiers.items():\n",
    "    clf.fit(X_train, y_train)  # Train the classifier\n",
    "    y_pred = clf.predict(X_test)  # Predict on the test set\n",
    "    \n",
    "    # Append each metric\n",
    "    metrics['Accuracy'].append(accuracy_score(y_test, y_pred))\n",
    "    metrics['Precision'].append(precision_score(y_test, y_pred, average='weighted'))\n",
    "    metrics['Recall'].append(recall_score(y_test, y_pred, average='weighted'))\n",
    "    metrics['F1 Score'].append(f1_score(y_test, y_pred, average='weighted'))\n",
    "\n",
    "# Setting up the bar chart\n",
    "n_groups = len(classifiers)  # Number of groups\n",
    "fig, ax = plt.subplots()\n",
    "index = np.arange(n_groups)\n",
    "bar_width = 0.2\n",
    "opacity = 0.8\n",
    "\n",
    "# Plot each metric\n",
    "rects1 = ax.bar(index, metrics['Accuracy'], bar_width,\n",
    "                alpha=opacity, color='b', label='Accuracy')\n",
    "\n",
    "rects2 = ax.bar(index + bar_width, metrics['Precision'], bar_width,\n",
    "                alpha=opacity, color='g', label='Precision')\n",
    "\n",
    "rects3 = ax.bar(index + 2 * bar_width, metrics['Recall'], bar_width,\n",
    "                alpha=opacity, color='r', label='Recall')\n",
    "\n",
    "rects4 = ax.bar(index + 3 * bar_width, metrics['F1 Score'], bar_width,\n",
    "                alpha=opacity, color='c', label='F1 Score')\n",
    "\n",
    "# Adding labels, title, and custom x-axis tick labels, etc.\n",
    "ax.set_xlabel('Classifiers')\n",
    "ax.set_ylabel('Scores')\n",
    "ax.set_title('Scores by classifier and metric')\n",
    "ax.set_xticks(index + 1.5 * bar_width)\n",
    "ax.set_xticklabels(classifiers.keys())\n",
    "ax.legend()\n",
    "\n",
    "# Layout\n",
    "fig.tight_layout()\n",
    "plt.xticks(rotation=45)  # Rotate classifier names for better fit\n",
    "plt.ylim(0, 1)  # Scale the y-axis to show scores from 0 to 1\n",
    "\n",
    "# Show plot\n",
    "plt.show()\n"
   ]
  },
  {
   "cell_type": "markdown",
   "id": "264745e9",
   "metadata": {},
   "source": [
    "# Confusion Matrix with and without Normalization"
   ]
  },
  {
   "cell_type": "code",
   "execution_count": 48,
   "id": "f978eeb3",
   "metadata": {
    "id": "f978eeb3"
   },
   "outputs": [
    {
     "name": "stdout",
     "output_type": "stream",
     "text": [
      "Confusion matrix, without normalization\n",
      "[[3116  402  440]\n",
      " [ 297 3513  212]\n",
      " [ 463  300 3257]]\n",
      "Normalized confusion matrix\n",
      "[[0.7872663  0.10156645 0.11116726]\n",
      " [0.07384386 0.87344605 0.05271009]\n",
      " [0.11517413 0.07462687 0.810199  ]]\n"
     ]
    },
    {
     "data": {
      "image/png": "[encoded data removed]",
      "text/plain": [
       "<Figure size 640x480 with 2 Axes>"
      ]
     },
     "metadata": {},
     "output_type": "display_data"
    },
    {
     "data": {
      "image/png": "[encoded data removed]",
      "text/plain": [
       "<Figure size 640x480 with 2 Axes>"
      ]
     },
     "metadata": {},
     "output_type": "display_data"
    }
   ],
   "source": [
    "class_names = ['positive', 'negative', 'neutral']\n",
    "\n",
    "def plot_confusion_matrix(y_true, y_pred, classes,\n",
    "                          normalize=False,\n",
    "                          title=None,\n",
    "                          cmap=plt.cm.Blues):\n",
    "    if not title:\n",
    "        title = 'Normalized confusion matrix' if normalize else 'Confusion matrix, without normalization'\n",
    "\n",
    "    cm = confusion_matrix(y_true, y_pred)\n",
    "    if normalize:\n",
    "        cm = cm.astype('float') / cm.sum(axis=1)[:, np.newaxis]\n",
    "        print(\"Normalized confusion matrix\")\n",
    "    else:\n",
    "        print('Confusion matrix, without normalization')\n",
    "\n",
    "    print(cm)\n",
    "\n",
    "    fig, ax = plt.subplots()\n",
    "    im = ax.imshow(cm, interpolation='nearest', cmap=cmap)\n",
    "    ax.figure.colorbar(im, ax=ax)\n",
    "    ax.set(xticks=np.arange(cm.shape[1]),\n",
    "           yticks=np.arange(cm.shape[0]),\n",
    "           xticklabels=classes, yticklabels=classes,\n",
    "           title=title,\n",
    "           ylabel='True label',\n",
    "           xlabel='Predicted label')\n",
    "\n",
    "    plt.setp(ax.get_xticklabels(), rotation=45, ha=\"right\", rotation_mode=\"anchor\")\n",
    "\n",
    "    fmt = '.2f' if normalize else 'd'\n",
    "    thresh = cm.max() / 2.\n",
    "    for i in range(cm.shape[0]):\n",
    "        for j in range(cm.shape[1]):\n",
    "            ax.text(j, i, format(cm[i, j], fmt),\n",
    "                    ha=\"center\", va=\"center\",\n",
    "                    color=\"white\" if cm[i, j] > thresh else \"black\")\n",
    "    fig.tight_layout()\n",
    "    return ax\n",
    "\n",
    "# Plot non-normalized confusion matrix\n",
    "plot_confusion_matrix(y_test, y_pred, classes=class_names,\n",
    "                      title='Confusion matrix, without normalization')\n",
    "\n",
    "# Plot normalized confusion matrix\n",
    "plot_confusion_matrix(y_test, y_pred, classes=class_names, normalize=True,\n",
    "                      title='Normalized confusion matrix')\n",
    "\n",
    "plt.show()\n"
   ]
  },
  {
   "cell_type": "markdown",
   "id": "4943c95d",
   "metadata": {},
   "source": [
    "# Testing Example Sentences using Voting Classifier to predict Sentiment"
   ]
  },
  {
   "cell_type": "code",
   "execution_count": 50,
   "id": "40ed3e1f",
   "metadata": {},
   "outputs": [
    {
     "name": "stdout",
     "output_type": "stream",
     "text": [
      "I really enjoyed the movie, it was fantastic! : positive\n"
     ]
    }
   ],
   "source": [
    "# Example sentence\n",
    "example_sentence = \"I really enjoyed the movie, it was fantastic!\"\n",
    "\n",
    "# Vectorize the example sentence using the same TF-IDF vectorizer\n",
    "example_sentence_vectorized = tfidf_vectorizer.transform([example_sentence])\n",
    "\n",
    "# Predict sentiment using the trained voting classifier\n",
    "predicted_sentiment = voting_clf.predict(example_sentence_vectorized)\n",
    "\n",
    "# Format and print the predicted sentiment alongside the example sentence\n",
    "print(f\"{example_sentence} : {predicted_sentiment[0]}\")\n"
   ]
  },
  {
   "cell_type": "code",
   "execution_count": 51,
   "id": "5065a584",
   "metadata": {},
   "outputs": [
    {
     "name": "stdout",
     "output_type": "stream",
     "text": [
      "Weather is so good today: positive\n"
     ]
    }
   ],
   "source": [
    "# Example sentence\n",
    "example_sentence = \"Weather is so good today\"\n",
    "\n",
    "# Vectorize the example sentence using the same TF-IDF vectorizer\n",
    "example_sentence_vectorized = tfidf_vectorizer.transform([example_sentence])\n",
    "\n",
    "# Predict sentiment using the trained voting classifier\n",
    "predicted_sentiment = voting_clf.predict(example_sentence_vectorized)\n",
    "\n",
    "# Print the predicted sentiment\n",
    "print(\"Weather is so good today:\", predicted_sentiment[0])\n"
   ]
  },
  {
   "cell_type": "code",
   "execution_count": 53,
   "id": "93ded053",
   "metadata": {},
   "outputs": [
    {
     "name": "stdout",
     "output_type": "stream",
     "text": [
      "aaj ka mausam achha hai: neutral\n"
     ]
    }
   ],
   "source": [
    "# Example sentence\n",
    "example_sentence = \"aaj ka mausam achha hai\"\n",
    "\n",
    "# Vectorize the example sentence using the same TF-IDF vectorizer\n",
    "example_sentence_vectorized = tfidf_vectorizer.transform([example_sentence])\n",
    "\n",
    "# Predict sentiment using the trained voting classifier\n",
    "predicted_sentiment = voting_clf.predict(example_sentence_vectorized)\n",
    "\n",
    "# Print the predicted sentiment\n",
    "print(\"aaj ka mausam achha hai:\", predicted_sentiment[0])\n"
   ]
  },
  {
   "cell_type": "code",
   "execution_count": 55,
   "id": "72a8227e",
   "metadata": {},
   "outputs": [
    {
     "name": "stdout",
     "output_type": "stream",
     "text": [
      "That movie was really bad: negative\n"
     ]
    }
   ],
   "source": [
    "# Example sentence\n",
    "example_sentence = \"That movie was really bad\"\n",
    "\n",
    "# Vectorize the example sentence using the same TF-IDF vectorizer\n",
    "example_sentence_vectorized = tfidf_vectorizer.transform([example_sentence])\n",
    "\n",
    "# Predict sentiment using the trained voting classifier\n",
    "predicted_sentiment = voting_clf.predict(example_sentence_vectorized)\n",
    "\n",
    "# Print the predicted sentiment\n",
    "print(\"That movie was really bad:\", predicted_sentiment[0])\n"
   ]
  },
  {
   "cell_type": "code",
   "execution_count": 56,
   "id": "e9ad3e0a",
   "metadata": {},
   "outputs": [
    {
     "name": "stdout",
     "output_type": "stream",
     "text": [
      "Today's weather is good: positive\n"
     ]
    }
   ],
   "source": [
    "# Example sentence\n",
    "example_sentence = \"Today's weather is good\"\n",
    "\n",
    "# Vectorize the example sentence using the same TF-IDF vectorizer\n",
    "example_sentence_vectorized = tfidf_vectorizer.transform([example_sentence])\n",
    "\n",
    "# Predict sentiment using the trained voting classifier\n",
    "predicted_sentiment = voting_clf.predict(example_sentence_vectorized)\n",
    "\n",
    "# Print the predicted sentiment\n",
    "print(\"Today's weather is good:\", predicted_sentiment[0])\n"
   ]
  },
  {
   "cell_type": "code",
   "execution_count": 57,
   "id": "97ae48f9",
   "metadata": {},
   "outputs": [
    {
     "name": "stdout",
     "output_type": "stream",
     "text": [
      "Today's weather is good: positive\n"
     ]
    }
   ],
   "source": [
    "# Example sentence\n",
    "example_sentence = \"Today's weather is good\"\n",
    "\n",
    "# Vectorize the example sentence using the same TF-IDF vectorizer\n",
    "example_sentence_vectorized = tfidf_vectorizer.transform([example_sentence])\n",
    "\n",
    "# Predict sentiment using the trained voting classifier\n",
    "predicted_sentiment = svm_model.predict(example_sentence_vectorized)\n",
    "\n",
    "# Print the predicted sentiment\n",
    "print(\"Today's weather is good:\", predicted_sentiment[0])\n"
   ]
  },
  {
   "cell_type": "code",
   "execution_count": 58,
   "id": "0a9e5380",
   "metadata": {},
   "outputs": [
    {
     "name": "stdout",
     "output_type": "stream",
     "text": [
      "Sun rises in the east: positive\n"
     ]
    }
   ],
   "source": [
    "# Example sentence\n",
    "example_sentence = \"Today's weather is good\"\n",
    "\n",
    "# Vectorize the example sentence using the same TF-IDF vectorizer\n",
    "example_sentence_vectorized = tfidf_vectorizer.transform([example_sentence])\n",
    "\n",
    "# Predict sentiment using the trained voting classifier\n",
    "predicted_sentiment = svm_model.predict(example_sentence_vectorized)\n",
    "\n",
    "# Print the predicted sentiment\n",
    "print(\"Sun rises in the east:\", predicted_sentiment[0])\n"
   ]
  },
  {
   "cell_type": "code",
   "execution_count": null,
   "id": "9984da31",
   "metadata": {},
   "outputs": [],
   "source": []
  }
 ],
 "metadata": {
  "colab": {
   "provenance": []
  },
  "kernelspec": {
   "display_name": "Python (mienv)",
   "language": "python",
   "name": "mien"
  },
  "language_info": {
   "codemirror_mode": {
    "name": "ipython",
    "version": 3
   },
   "file_extension": ".py",
   "mimetype": "text/x-python",
   "name": "python",
   "nbconvert_exporter": "python",
   "pygments_lexer": "ipython3",
   "version": "3.11.9"
  }
 },
 "nbformat": 4,
 "nbformat_minor": 5
}
